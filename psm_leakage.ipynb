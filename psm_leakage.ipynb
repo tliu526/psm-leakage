{
 "cells": [
  {
   "cell_type": "markdown",
   "metadata": {},
   "source": [
    "# Description"
   ]
  },
  {
   "cell_type": "markdown",
   "metadata": {},
   "source": [
    "Initial EDA for potential propensity score matching leakage."
   ]
  },
  {
   "cell_type": "code",
   "execution_count": 1,
   "metadata": {},
   "outputs": [
    {
     "data": {
      "text/html": [
       "<script>\n",
       "code_show=true; \n",
       "function code_toggle() {\n",
       " if (code_show){\n",
       " $('div.input').hide();\n",
       " } else {\n",
       " $('div.input').show();\n",
       " }\n",
       " code_show = !code_show\n",
       "} \n",
       "$( document ).ready(code_toggle);\n",
       "</script>\n",
       "<form action=\"javascript:code_toggle()\"><input type=\"submit\" value=\"Click here to toggle on/off the raw code.\"></form>"
      ],
      "text/plain": [
       "<IPython.core.display.HTML object>"
      ]
     },
     "execution_count": 1,
     "metadata": {},
     "output_type": "execute_result"
    }
   ],
   "source": [
    "# source: https://stackoverflow.com/a/28073228\n",
    "from IPython.display import HTML\n",
    "\n",
    "HTML('''<script>\n",
    "code_show=true; \n",
    "function code_toggle() {\n",
    " if (code_show){\n",
    " $('div.input').hide();\n",
    " } else {\n",
    " $('div.input').show();\n",
    " }\n",
    " code_show = !code_show\n",
    "} \n",
    "$( document ).ready(code_toggle);\n",
    "</script>\n",
    "<form action=\"javascript:code_toggle()\"><input type=\"submit\" value=\"Click here to toggle on/off the raw code.\"></form>''')"
   ]
  },
  {
   "cell_type": "markdown",
   "metadata": {},
   "source": [
    "# Imports"
   ]
  },
  {
   "cell_type": "code",
   "execution_count": 2,
   "metadata": {},
   "outputs": [
    {
     "name": "stderr",
     "output_type": "stream",
     "text": [
      "\n",
      "Bad key text.latex.preview in file /home/tliu/.conda/envs/rdd/lib/python3.7/site-packages/matplotlib/mpl-data/stylelib/_classic_test.mplstyle, line 123 ('text.latex.preview : False')\n",
      "You probably need to get an updated matplotlibrc file from\n",
      "https://github.com/matplotlib/matplotlib/blob/v3.5.0/matplotlibrc.template\n",
      "or from the matplotlib source distribution\n",
      "\n",
      "Bad key mathtext.fallback_to_cm in file /home/tliu/.conda/envs/rdd/lib/python3.7/site-packages/matplotlib/mpl-data/stylelib/_classic_test.mplstyle, line 155 ('mathtext.fallback_to_cm : True  # When True, use symbols from the Computer Modern')\n",
      "You probably need to get an updated matplotlibrc file from\n",
      "https://github.com/matplotlib/matplotlib/blob/v3.5.0/matplotlibrc.template\n",
      "or from the matplotlib source distribution\n",
      "\n",
      "Bad key savefig.jpeg_quality in file /home/tliu/.conda/envs/rdd/lib/python3.7/site-packages/matplotlib/mpl-data/stylelib/_classic_test.mplstyle, line 418 ('savefig.jpeg_quality: 95       # when a jpeg is saved, the default quality parameter.')\n",
      "You probably need to get an updated matplotlibrc file from\n",
      "https://github.com/matplotlib/matplotlib/blob/v3.5.0/matplotlibrc.template\n",
      "or from the matplotlib source distribution\n",
      "\n",
      "Bad key keymap.all_axes in file /home/tliu/.conda/envs/rdd/lib/python3.7/site-packages/matplotlib/mpl-data/stylelib/_classic_test.mplstyle, line 466 ('keymap.all_axes : a                 # enable all axes')\n",
      "You probably need to get an updated matplotlibrc file from\n",
      "https://github.com/matplotlib/matplotlib/blob/v3.5.0/matplotlibrc.template\n",
      "or from the matplotlib source distribution\n",
      "\n",
      "Bad key animation.avconv_path in file /home/tliu/.conda/envs/rdd/lib/python3.7/site-packages/matplotlib/mpl-data/stylelib/_classic_test.mplstyle, line 477 ('animation.avconv_path: avconv     # Path to avconv binary. Without full path')\n",
      "You probably need to get an updated matplotlibrc file from\n",
      "https://github.com/matplotlib/matplotlib/blob/v3.5.0/matplotlibrc.template\n",
      "or from the matplotlib source distribution\n",
      "\n",
      "Bad key animation.avconv_args in file /home/tliu/.conda/envs/rdd/lib/python3.7/site-packages/matplotlib/mpl-data/stylelib/_classic_test.mplstyle, line 479 ('animation.avconv_args:            # Additional arguments to pass to avconv')\n",
      "You probably need to get an updated matplotlibrc file from\n",
      "https://github.com/matplotlib/matplotlib/blob/v3.5.0/matplotlibrc.template\n",
      "or from the matplotlib source distribution\n"
     ]
    }
   ],
   "source": [
    "import numpy as np\n",
    "import pandas as pd\n",
    "import seaborn as sns\n",
    "import matplotlib.pyplot as plt\n",
    "import pingouin as pg\n",
    "import ipywidgets as widgets\n",
    "\n",
    "from ipywidgets import interact, interact_manual\n",
    "\n",
    "%matplotlib inline\n",
    "%load_ext autoreload\n",
    "%autoreload 2"
   ]
  },
  {
   "cell_type": "code",
   "execution_count": 3,
   "metadata": {},
   "outputs": [],
   "source": [
    "# user imports\n",
    "\n",
    "from utils import compute_study_pairs"
   ]
  },
  {
   "cell_type": "markdown",
   "metadata": {},
   "source": [
    "# Load data"
   ]
  },
  {
   "cell_type": "code",
   "execution_count": 4,
   "metadata": {},
   "outputs": [],
   "source": [
    "# sheet_name=None loads all sheets as a dict\n",
    "psm_leak_dict = pd.read_excel(\"data/psm_leakage.xlsx\", sheet_name=None)"
   ]
  },
  {
   "cell_type": "code",
   "execution_count": 5,
   "metadata": {},
   "outputs": [],
   "source": [
    "meta_studies = list(psm_leak_dict.keys())\n",
    "\n",
    "psm_leak = pd.DataFrame()\n",
    "for study, df in psm_leak_dict.items():\n",
    "    df['meta_study'] = study\n",
    "    psm_leak = psm_leak.append(df)\n",
    "    \n",
    "psm_leak = psm_leak.reset_index()"
   ]
  },
  {
   "cell_type": "code",
   "execution_count": 6,
   "metadata": {},
   "outputs": [
    {
     "data": {
      "text/html": [
       "<div>\n",
       "<style scoped>\n",
       "    .dataframe tbody tr th:only-of-type {\n",
       "        vertical-align: middle;\n",
       "    }\n",
       "\n",
       "    .dataframe tbody tr th {\n",
       "        vertical-align: top;\n",
       "    }\n",
       "\n",
       "    .dataframe thead th {\n",
       "        text-align: right;\n",
       "    }\n",
       "</style>\n",
       "<table border=\"1\" class=\"dataframe\">\n",
       "  <thead>\n",
       "    <tr style=\"text-align: right;\">\n",
       "      <th></th>\n",
       "      <th>index</th>\n",
       "      <th>study_type</th>\n",
       "      <th>year</th>\n",
       "      <th>clinical_setting</th>\n",
       "      <th>estimate</th>\n",
       "      <th>lower_ci</th>\n",
       "      <th>upper_ci</th>\n",
       "      <th>meta_study</th>\n",
       "      <th>month</th>\n",
       "      <th>note</th>\n",
       "      <th>area</th>\n",
       "    </tr>\n",
       "  </thead>\n",
       "  <tbody>\n",
       "    <tr>\n",
       "      <th>150</th>\n",
       "      <td>22</td>\n",
       "      <td>PS</td>\n",
       "      <td>2016.0</td>\n",
       "      <td>Clopidogrel treatment duration 3 month v &gt;3 mo...</td>\n",
       "      <td>0.20</td>\n",
       "      <td>0.00</td>\n",
       "      <td>1.300</td>\n",
       "      <td>hemkens2016</td>\n",
       "      <td>NaT</td>\n",
       "      <td>NaN</td>\n",
       "      <td>NaN</td>\n",
       "    </tr>\n",
       "    <tr>\n",
       "      <th>151</th>\n",
       "      <td>23</td>\n",
       "      <td>RCT</td>\n",
       "      <td>2017.0</td>\n",
       "      <td>Clopidogrel treatment duration 3 month v &gt;3 mo...</td>\n",
       "      <td>0.91</td>\n",
       "      <td>0.61</td>\n",
       "      <td>1.350</td>\n",
       "      <td>hemkens2016</td>\n",
       "      <td>NaT</td>\n",
       "      <td>NaN</td>\n",
       "      <td>NaN</td>\n",
       "    </tr>\n",
       "    <tr>\n",
       "      <th>152</th>\n",
       "      <td>24</td>\n",
       "      <td>PS</td>\n",
       "      <td>2016.0</td>\n",
       "      <td>Very early angiography (within 6h) v early con...</td>\n",
       "      <td>0.89</td>\n",
       "      <td>0.69</td>\n",
       "      <td>1.170</td>\n",
       "      <td>hemkens2016</td>\n",
       "      <td>NaT</td>\n",
       "      <td>NaN</td>\n",
       "      <td>NaN</td>\n",
       "    </tr>\n",
       "    <tr>\n",
       "      <th>153</th>\n",
       "      <td>25</td>\n",
       "      <td>RCT</td>\n",
       "      <td>2017.0</td>\n",
       "      <td>Very early angiography (within 6h) v early con...</td>\n",
       "      <td>0.85</td>\n",
       "      <td>0.40</td>\n",
       "      <td>1.840</td>\n",
       "      <td>hemkens2016</td>\n",
       "      <td>NaT</td>\n",
       "      <td>NaN</td>\n",
       "      <td>NaN</td>\n",
       "    </tr>\n",
       "    <tr>\n",
       "      <th>154</th>\n",
       "      <td>26</td>\n",
       "      <td>PS</td>\n",
       "      <td>2016.0</td>\n",
       "      <td>Beta blocker continuation v beta blocker withd...</td>\n",
       "      <td>0.42</td>\n",
       "      <td>0.21</td>\n",
       "      <td>0.857</td>\n",
       "      <td>hemkens2016</td>\n",
       "      <td>NaT</td>\n",
       "      <td>NaN</td>\n",
       "      <td>NaN</td>\n",
       "    </tr>\n",
       "    <tr>\n",
       "      <th>155</th>\n",
       "      <td>27</td>\n",
       "      <td>RCT</td>\n",
       "      <td>2017.0</td>\n",
       "      <td>Beta blocker continuation v beta blocker withd...</td>\n",
       "      <td>0.99</td>\n",
       "      <td>0.34</td>\n",
       "      <td>2.880</td>\n",
       "      <td>hemkens2016</td>\n",
       "      <td>NaT</td>\n",
       "      <td>NaN</td>\n",
       "      <td>NaN</td>\n",
       "    </tr>\n",
       "    <tr>\n",
       "      <th>156</th>\n",
       "      <td>28</td>\n",
       "      <td>PS</td>\n",
       "      <td>2016.0</td>\n",
       "      <td>Surgical removal of the primary tumor v no sur...</td>\n",
       "      <td>0.64</td>\n",
       "      <td>0.59</td>\n",
       "      <td>0.680</td>\n",
       "      <td>hemkens2016</td>\n",
       "      <td>NaT</td>\n",
       "      <td>NaN</td>\n",
       "      <td>NaN</td>\n",
       "    </tr>\n",
       "    <tr>\n",
       "      <th>157</th>\n",
       "      <td>29</td>\n",
       "      <td>RCT</td>\n",
       "      <td>2017.0</td>\n",
       "      <td>Surgical removal of the primary tumor v no sur...</td>\n",
       "      <td>0.92</td>\n",
       "      <td>0.56</td>\n",
       "      <td>1.530</td>\n",
       "      <td>hemkens2016</td>\n",
       "      <td>NaT</td>\n",
       "      <td>NaN</td>\n",
       "      <td>NaN</td>\n",
       "    </tr>\n",
       "    <tr>\n",
       "      <th>158</th>\n",
       "      <td>30</td>\n",
       "      <td>PS</td>\n",
       "      <td>2016.0</td>\n",
       "      <td>CABG v drug eluting stent, Unprotected, left m...</td>\n",
       "      <td>0.74</td>\n",
       "      <td>0.16</td>\n",
       "      <td>3.420</td>\n",
       "      <td>hemkens2016</td>\n",
       "      <td>NaT</td>\n",
       "      <td>NaN</td>\n",
       "      <td>NaN</td>\n",
       "    </tr>\n",
       "    <tr>\n",
       "      <th>159</th>\n",
       "      <td>31</td>\n",
       "      <td>RCT</td>\n",
       "      <td>2017.0</td>\n",
       "      <td>CABG v drug eluting stent, Unprotected, left m...</td>\n",
       "      <td>1.23</td>\n",
       "      <td>0.70</td>\n",
       "      <td>2.170</td>\n",
       "      <td>hemkens2016</td>\n",
       "      <td>NaT</td>\n",
       "      <td>NaN</td>\n",
       "      <td>NaN</td>\n",
       "    </tr>\n",
       "  </tbody>\n",
       "</table>\n",
       "</div>"
      ],
      "text/plain": [
       "     index study_type    year  \\\n",
       "150     22         PS  2016.0   \n",
       "151     23        RCT  2017.0   \n",
       "152     24         PS  2016.0   \n",
       "153     25        RCT  2017.0   \n",
       "154     26         PS  2016.0   \n",
       "155     27        RCT  2017.0   \n",
       "156     28         PS  2016.0   \n",
       "157     29        RCT  2017.0   \n",
       "158     30         PS  2016.0   \n",
       "159     31        RCT  2017.0   \n",
       "\n",
       "                                      clinical_setting  estimate  lower_ci  \\\n",
       "150  Clopidogrel treatment duration 3 month v >3 mo...      0.20      0.00   \n",
       "151  Clopidogrel treatment duration 3 month v >3 mo...      0.91      0.61   \n",
       "152  Very early angiography (within 6h) v early con...      0.89      0.69   \n",
       "153  Very early angiography (within 6h) v early con...      0.85      0.40   \n",
       "154  Beta blocker continuation v beta blocker withd...      0.42      0.21   \n",
       "155  Beta blocker continuation v beta blocker withd...      0.99      0.34   \n",
       "156  Surgical removal of the primary tumor v no sur...      0.64      0.59   \n",
       "157  Surgical removal of the primary tumor v no sur...      0.92      0.56   \n",
       "158  CABG v drug eluting stent, Unprotected, left m...      0.74      0.16   \n",
       "159  CABG v drug eluting stent, Unprotected, left m...      1.23      0.70   \n",
       "\n",
       "     upper_ci   meta_study month note area  \n",
       "150     1.300  hemkens2016   NaT  NaN  NaN  \n",
       "151     1.350  hemkens2016   NaT  NaN  NaN  \n",
       "152     1.170  hemkens2016   NaT  NaN  NaN  \n",
       "153     1.840  hemkens2016   NaT  NaN  NaN  \n",
       "154     0.857  hemkens2016   NaT  NaN  NaN  \n",
       "155     2.880  hemkens2016   NaT  NaN  NaN  \n",
       "156     0.680  hemkens2016   NaT  NaN  NaN  \n",
       "157     1.530  hemkens2016   NaT  NaN  NaN  \n",
       "158     3.420  hemkens2016   NaT  NaN  NaN  \n",
       "159     2.170  hemkens2016   NaT  NaN  NaN  "
      ]
     },
     "execution_count": 6,
     "metadata": {},
     "output_type": "execute_result"
    }
   ],
   "source": [
    "psm_leak.tail(10)"
   ]
  },
  {
   "cell_type": "code",
   "execution_count": 7,
   "metadata": {},
   "outputs": [],
   "source": [
    "# create a unique study id via index\n",
    "psm_leak = psm_leak.reset_index()\n",
    "psm_leak = psm_leak.rename({\"index\": \"study_id\"}, axis=\"columns\")\n",
    "psm_leak['study_id'] = psm_leak['study_id'].astype(str)\n",
    "psm_leak.head()\n",
    "psm_leak['ci_diff'] = psm_leak['upper_ci'] - psm_leak['lower_ci']"
   ]
  },
  {
   "cell_type": "code",
   "execution_count": 8,
   "metadata": {},
   "outputs": [
    {
     "data": {
      "text/plain": [
       "RCT    104\n",
       "PS      56\n",
       "Name: study_type, dtype: int64"
      ]
     },
     "execution_count": 8,
     "metadata": {},
     "output_type": "execute_result"
    }
   ],
   "source": [
    "psm_leak['study_type'].value_counts()"
   ]
  },
  {
   "cell_type": "code",
   "execution_count": 9,
   "metadata": {},
   "outputs": [
    {
     "data": {
      "text/plain": [
       "RCT    104\n",
       "PS      56\n",
       "Name: study_type, dtype: int64"
      ]
     },
     "execution_count": 9,
     "metadata": {},
     "output_type": "execute_result"
    }
   ],
   "source": [
    "psm_leak['study_type'].value_counts()"
   ]
  },
  {
   "cell_type": "markdown",
   "metadata": {},
   "source": [
    "# Clip studies with large CIs"
   ]
  },
  {
   "cell_type": "markdown",
   "metadata": {},
   "source": [
    "During a live coding session, Konrad and I examined the confidence intervals\n",
    "and decided to remove studies with large intervals -- the choice of 3 as the cutoff\n",
    "was arbitrary based on visual inspection and more formal analysis will need a more formal method for outlier\n",
    "removal (e.g. 2-3 SDs)."
   ]
  },
  {
   "cell_type": "code",
   "execution_count": 10,
   "metadata": {},
   "outputs": [
    {
     "data": {
      "image/png": "[encoded data removed]",
      "text/plain": [
       "<Figure size 1200x600 with 2 Axes>"
      ]
     },
     "metadata": {
      "needs_background": "light"
     },
     "output_type": "display_data"
    }
   ],
   "source": [
    "fig, (ax1, ax2) = plt.subplots(1, 2, dpi=150, figsize=(8,4))\n",
    "rct = psm_leak[psm_leak['study_type'] == 'RCT']\n",
    "ps = psm_leak[psm_leak['study_type'] == 'PS']\n",
    "\n",
    "sns.scatterplot(data=rct, x='estimate', y='ci_diff', ax=ax1)\n",
    "ax1.set_ylim(0, 8)\n",
    "ax1.set_xlabel(\"rct estimates\")\n",
    "ax1.axhline(y=3, ls='--', color='red', label='cutoff')\n",
    "ax1.legend()\n",
    "\n",
    "sns.scatterplot(data=ps, x='estimate', y='ci_diff', ax=ax2)\n",
    "ax2.set_ylim(0, 8)\n",
    "ax2.axhline(y=3, ls='--', color='red', label='cutoff')\n",
    "ax2.set_xlabel(\"ps estimates\");\n"
   ]
  },
  {
   "cell_type": "code",
   "execution_count": 11,
   "metadata": {},
   "outputs": [],
   "source": [
    "#sel_psm_leak = psm_leak[psm_leak['ci_diff'] < 3]\n",
    "sel_psm_leak = psm_leak.copy()"
   ]
  },
  {
   "cell_type": "markdown",
   "metadata": {},
   "source": [
    "# Compute pairwise differences\n",
    "\n",
    "For each PS study within a clinical setting, we pair it with an RCT and compute\n",
    "the year difference between each pair.\n",
    "\n",
    "**TODO**: since this is a one-to-many mapping *per PS study*, there will be \n",
    "repeated measurements of both PS and RCT studies. More formal analysis will need\n",
    "to account for this group structure."
   ]
  },
  {
   "cell_type": "code",
   "execution_count": 12,
   "metadata": {},
   "outputs": [],
   "source": [
    "pair_df = compute_study_pairs(sel_psm_leak)"
   ]
  },
  {
   "cell_type": "markdown",
   "metadata": {},
   "source": [
    "# Relationship between RCT and PS estimates: regression"
   ]
  },
  {
   "cell_type": "markdown",
   "metadata": {},
   "source": [
    "We'll analyze the effect estimates in log space."
   ]
  },
  {
   "cell_type": "code",
   "execution_count": 13,
   "metadata": {},
   "outputs": [],
   "source": [
    "#pair_df['rct_est'] = np.log(pair_df['rct_est'])\n",
    "#pair_df['ps_est'] = np.log(pair_df['ps_est'])"
   ]
  },
  {
   "cell_type": "markdown",
   "metadata": {},
   "source": [
    "For the initial analysis, we discard PS-RCT pairs that were published in the same year.\n",
    "\n",
    "**TODO**: further data collection could take a look at the specific studies cited\n",
    "and their specific month/day publication date for more granularity."
   ]
  },
  {
   "cell_type": "code",
   "execution_count": 14,
   "metadata": {},
   "outputs": [],
   "source": [
    "no_zero_pairs = pair_df[pair_df['year_diff'] != 0].copy()"
   ]
  },
  {
   "cell_type": "code",
   "execution_count": 15,
   "metadata": {
    "scrolled": true
   },
   "outputs": [],
   "source": [
    "no_zero_pairs = no_zero_pairs[~no_zero_pairs[['rct_est', 'ps_est']].isna().any(axis=1)]"
   ]
  },
  {
   "cell_type": "code",
   "execution_count": 16,
   "metadata": {},
   "outputs": [],
   "source": [
    "# indicator function for the PS study coming *after* the RCT\n",
    "no_zero_pairs['ps_after'] = (no_zero_pairs['year_diff'] > 0).astype(int)"
   ]
  },
  {
   "cell_type": "code",
   "execution_count": 17,
   "metadata": {},
   "outputs": [],
   "source": [
    "# helper function for regression results\n",
    "def get_reg_results(data, name, x, y='rct_est'):\n",
    "    sel_cols = ['names', 'coef', 'se', 'pval', 'CI[2.5%]', 'CI[97.5%]']\n",
    "    # we want the second entry, for the x coefficient results\n",
    "    reg_results = pg.linear_regression(data[x], data[y], add_intercept=True, remove_na=True).loc[1, sel_cols]\n",
    "    reg_results = reg_results.to_frame().transpose()\n",
    "    reg_results.index = [name]\n",
    "    return reg_results\n",
    "\n",
    "#get_reg_results(no_zero_pairs[no_zero_pairs['ps_after'] == 0], 'test', x='ps_est')"
   ]
  },
  {
   "cell_type": "code",
   "execution_count": 18,
   "metadata": {},
   "outputs": [
    {
     "data": {
      "text/plain": [
       "count    124.000000\n",
       "mean       2.141613\n",
       "std        3.602068\n",
       "min        0.200000\n",
       "25%        0.590000\n",
       "50%        1.000000\n",
       "75%        1.895000\n",
       "max       31.320000\n",
       "Name: rct_ci_diff, dtype: float64"
      ]
     },
     "execution_count": 18,
     "metadata": {},
     "output_type": "execute_result"
    }
   ],
   "source": [
    "no_zero_pairs['rct_ci_diff'].describe()"
   ]
  },
  {
   "cell_type": "code",
   "execution_count": 27,
   "metadata": {
    "scrolled": false
   },
   "outputs": [
    {
     "data": {
      "application/vnd.jupyter.widget-view+json": {
       "model_id": "2befbb3832d445c0b18a5e5966b6e5c5",
       "version_major": 2,
       "version_minor": 0
      },
      "text/plain": [
       "interactive(children=(Dropdown(description='group_col', options=('study_id', 'clinical_setting'), value='study…"
      ]
     },
     "metadata": {},
     "output_type": "display_data"
    }
   ],
   "source": [
    "group_col = 'study_id'\n",
    "\n",
    "@interact_manual(\n",
    "    group_col=['study_id', 'clinical_setting'],\n",
    "    ci_diff=widgets.FloatSlider(\n",
    "        value=3,\n",
    "        min=1,\n",
    "        max=5.0,\n",
    "        step=0.1,\n",
    "    )\n",
    "#     meta_studies=widgets.SelectMultiple(\n",
    "#         options=[None] + meta_studies,\n",
    "#         value=[None],\n",
    "#     )\n",
    ")\n",
    "def show_reg(group_col, ci_diff, log_transform=True):\n",
    "    meta_studies = [None]\n",
    "    \n",
    "    fig, (ax1,ax2) = plt.subplots(1, 2, dpi=125, figsize=(10,4))\n",
    "    \n",
    "    if None in list(meta_studies):\n",
    "        sel_pairs = no_zero_pairs.copy()\n",
    "    else:\n",
    "        sel_pairs = no_zero_pairs[no_zero_pairs['meta_study'].isin(list(meta_studies))].copy()\n",
    "        \n",
    "    sel_pairs = sel_pairs[(sel_pairs['rct_ci_diff'] < ci_diff) & (sel_pairs['ps_ci_diff'] < ci_diff)]\n",
    "    \n",
    "    if log_transform:\n",
    "        sel_pairs['rct_est'] = np.log(sel_pairs['rct_est'])\n",
    "        sel_pairs['ps_est'] = np.log(sel_pairs['ps_est'])\n",
    "\n",
    "    sns.scatterplot(data=sel_pairs, x='ps_est', y='rct_est', hue='ps_after', ax=ax1)\n",
    "    sns.regplot(data=sel_pairs[sel_pairs['ps_after'] == 0], x='ps_est', y='rct_est', color='blue', ax=ax1)\n",
    "    sns.regplot(data=sel_pairs[sel_pairs['ps_after'] == 1], x='ps_est', y='rct_est', color='orange', ax=ax1)\n",
    "    ax1.set_title(\"outlier clipped, individual pairs\")\n",
    "    ax1.set_xlabel(\"PS study effect estimate\")\n",
    "    ax1.set_ylabel(\"RCT study effect estimate\")\n",
    "    #ax1.set_ylim(-1.25, 0.75)\n",
    "\n",
    "    #grouped = sel_pairs.sort_values(by=[group_col, 'rct_ci_diff'], ascending=True).groupby(['ps_after', group_col], as_index=False)[['ps_est', 'rct_est']].head()\n",
    "    grouped = sel_pairs.groupby(['ps_after', group_col], as_index=False)[['ps_est', 'rct_est']].mean()\n",
    "    print(f\"{sel_pairs.shape[0]} individual pairs\")\n",
    "    print(f\"{grouped.shape[0]} grouped pairs\")\n",
    "    \n",
    "    \n",
    "    sns.scatterplot(data=grouped, x='ps_est', y='rct_est', hue='ps_after', ax=ax2)\n",
    "    sns.regplot(data=grouped[grouped['ps_after'] == 0], x='ps_est', y='rct_est', color='blue', ax=ax2)\n",
    "    sns.regplot(data=grouped[grouped['ps_after'] == 1], x='ps_est', y='rct_est', color='orange', ax=ax2)\n",
    "    ax2.set_title(f\"outlier clipped, grouped by {group_col}\")\n",
    "    ax2.set_xlabel(\"PS study effect estimate\")\n",
    "    ax2.set_ylabel(\"RCT study effect estimate\")\n",
    "    #ax2.set_ylim(-1.25, 0.75)\n",
    "    \n",
    "    ax1.set_box_aspect(1)\n",
    "    ax2.set_box_aspect(1)\n",
    "\n",
    "    # show regression results\n",
    "    name_dict = {\n",
    "        'individual pairs, before': sel_pairs[sel_pairs['ps_after'] == 0],\n",
    "        'individual pairs, after': sel_pairs[sel_pairs['ps_after'] == 1],\n",
    "        'grouped pairs, before': grouped[grouped['ps_after'] == 0],\n",
    "        'grouped pairs, after': grouped[grouped['ps_after'] == 1],\n",
    "    }\n",
    "\n",
    "    reg_df = pd.DataFrame()\n",
    "    for name, data in name_dict.items():\n",
    "        df = get_reg_results(data, name, x='ps_est', y='rct_est')\n",
    "        reg_df = reg_df.append(df)\n",
    "\n",
    "    display(reg_df)"
   ]
  },
  {
   "cell_type": "markdown",
   "metadata": {},
   "source": [
    "After grouping (averaging within pairs) either by individual PS study or by clinical setting,\n",
    "we see a significant positive relationship between the RCT effect estimate and the PS effect\n",
    "estimate if the PS study came after the RCT, while no significant relationship between\n",
    "the effects if the PS study came before the RCT."
   ]
  },
  {
   "cell_type": "markdown",
   "metadata": {},
   "source": [
    "# RCT-RCT agreement"
   ]
  },
  {
   "cell_type": "markdown",
   "metadata": {},
   "source": [
    "We hypothesize that due to the additional validity controls present in RCTs, the pre-post publication effect should not exist."
   ]
  },
  {
   "cell_type": "code",
   "execution_count": 20,
   "metadata": {},
   "outputs": [],
   "source": [
    "pair_rct_df = pd.DataFrame()\n",
    "for clinic_set, group in sel_psm_leak.groupby(\"clinical_setting\"):\n",
    "    rct_df = group[group['study_type'] == 'RCT']\n",
    "    for rct1_idx, rct1 in rct_df.iterrows():\n",
    "        ps_dict = {\n",
    "            \"study_id\": [],\n",
    "            \"rct1_year\": [],\n",
    "            \"rct2_year\": [],\n",
    "            \"year_diff\": [],\n",
    "            \"rct1_est\": [],\n",
    "            \"rct2_est\": [],\n",
    "            \"clinical_setting\": [],\n",
    "        }\n",
    "        for rct2_idx, rct2 in rct_df.iterrows():\n",
    "            if rct1_idx != rct2_idx:\n",
    "                ps_dict['study_id'].append(rct1['study_id'])\n",
    "                ps_dict['rct1_year'].append(rct1['year'])\n",
    "                ps_dict['rct2_year'].append(rct2['year'])\n",
    "                ps_dict['year_diff'].append(rct1['year'] - rct2['year'])\n",
    "                ps_dict['rct1_est'].append(rct1['estimate'])\n",
    "                ps_dict['rct2_est'].append(rct2['estimate'])\n",
    "                ps_dict['clinical_setting'].append(rct1['clinical_setting'])\n",
    "\n",
    "        df = pd.DataFrame.from_dict(ps_dict)\n",
    "        pair_rct_df = pair_rct_df.append(df)"
   ]
  },
  {
   "cell_type": "code",
   "execution_count": 21,
   "metadata": {},
   "outputs": [
    {
     "data": {
      "text/html": [
       "<div>\n",
       "<style scoped>\n",
       "    .dataframe tbody tr th:only-of-type {\n",
       "        vertical-align: middle;\n",
       "    }\n",
       "\n",
       "    .dataframe tbody tr th {\n",
       "        vertical-align: top;\n",
       "    }\n",
       "\n",
       "    .dataframe thead th {\n",
       "        text-align: right;\n",
       "    }\n",
       "</style>\n",
       "<table border=\"1\" class=\"dataframe\">\n",
       "  <thead>\n",
       "    <tr style=\"text-align: right;\">\n",
       "      <th></th>\n",
       "      <th>study_id</th>\n",
       "      <th>rct1_year</th>\n",
       "      <th>rct2_year</th>\n",
       "      <th>year_diff</th>\n",
       "      <th>rct1_est</th>\n",
       "      <th>rct2_est</th>\n",
       "      <th>clinical_setting</th>\n",
       "    </tr>\n",
       "  </thead>\n",
       "  <tbody>\n",
       "    <tr>\n",
       "      <th>0</th>\n",
       "      <td>26</td>\n",
       "      <td>1995.0</td>\n",
       "      <td>1997.0</td>\n",
       "      <td>-2.0</td>\n",
       "      <td>NaN</td>\n",
       "      <td>NaN</td>\n",
       "      <td>ACEi (AMI)</td>\n",
       "    </tr>\n",
       "    <tr>\n",
       "      <th>1</th>\n",
       "      <td>26</td>\n",
       "      <td>1995.0</td>\n",
       "      <td>1994.0</td>\n",
       "      <td>1.0</td>\n",
       "      <td>NaN</td>\n",
       "      <td>NaN</td>\n",
       "      <td>ACEi (AMI)</td>\n",
       "    </tr>\n",
       "    <tr>\n",
       "      <th>0</th>\n",
       "      <td>27</td>\n",
       "      <td>1997.0</td>\n",
       "      <td>1995.0</td>\n",
       "      <td>2.0</td>\n",
       "      <td>NaN</td>\n",
       "      <td>NaN</td>\n",
       "      <td>ACEi (AMI)</td>\n",
       "    </tr>\n",
       "    <tr>\n",
       "      <th>1</th>\n",
       "      <td>27</td>\n",
       "      <td>1997.0</td>\n",
       "      <td>1994.0</td>\n",
       "      <td>3.0</td>\n",
       "      <td>NaN</td>\n",
       "      <td>NaN</td>\n",
       "      <td>ACEi (AMI)</td>\n",
       "    </tr>\n",
       "    <tr>\n",
       "      <th>0</th>\n",
       "      <td>28</td>\n",
       "      <td>1994.0</td>\n",
       "      <td>1995.0</td>\n",
       "      <td>-1.0</td>\n",
       "      <td>NaN</td>\n",
       "      <td>NaN</td>\n",
       "      <td>ACEi (AMI)</td>\n",
       "    </tr>\n",
       "    <tr>\n",
       "      <th>...</th>\n",
       "      <td>...</td>\n",
       "      <td>...</td>\n",
       "      <td>...</td>\n",
       "      <td>...</td>\n",
       "      <td>...</td>\n",
       "      <td>...</td>\n",
       "      <td>...</td>\n",
       "    </tr>\n",
       "    <tr>\n",
       "      <th>0</th>\n",
       "      <td>84</td>\n",
       "      <td>2006.0</td>\n",
       "      <td>2002.0</td>\n",
       "      <td>4.0</td>\n",
       "      <td>1.05</td>\n",
       "      <td>1.01</td>\n",
       "      <td>right heart catheterization vs not</td>\n",
       "    </tr>\n",
       "    <tr>\n",
       "      <th>1</th>\n",
       "      <td>84</td>\n",
       "      <td>2006.0</td>\n",
       "      <td>2003.0</td>\n",
       "      <td>3.0</td>\n",
       "      <td>1.05</td>\n",
       "      <td>0.94</td>\n",
       "      <td>right heart catheterization vs not</td>\n",
       "    </tr>\n",
       "    <tr>\n",
       "      <th>2</th>\n",
       "      <td>84</td>\n",
       "      <td>2006.0</td>\n",
       "      <td>2005.0</td>\n",
       "      <td>1.0</td>\n",
       "      <td>1.05</td>\n",
       "      <td>1.09</td>\n",
       "      <td>right heart catheterization vs not</td>\n",
       "    </tr>\n",
       "    <tr>\n",
       "      <th>0</th>\n",
       "      <td>66</td>\n",
       "      <td>2004.0</td>\n",
       "      <td>2006.0</td>\n",
       "      <td>-2.0</td>\n",
       "      <td>2.17</td>\n",
       "      <td>0.39</td>\n",
       "      <td>tracheostomy vs not (ICU)</td>\n",
       "    </tr>\n",
       "    <tr>\n",
       "      <th>0</th>\n",
       "      <td>67</td>\n",
       "      <td>2006.0</td>\n",
       "      <td>2004.0</td>\n",
       "      <td>2.0</td>\n",
       "      <td>0.39</td>\n",
       "      <td>2.17</td>\n",
       "      <td>tracheostomy vs not (ICU)</td>\n",
       "    </tr>\n",
       "  </tbody>\n",
       "</table>\n",
       "<p>368 rows × 7 columns</p>\n",
       "</div>"
      ],
      "text/plain": [
       "   study_id  rct1_year  rct2_year  year_diff  rct1_est  rct2_est  \\\n",
       "0        26     1995.0     1997.0       -2.0       NaN       NaN   \n",
       "1        26     1995.0     1994.0        1.0       NaN       NaN   \n",
       "0        27     1997.0     1995.0        2.0       NaN       NaN   \n",
       "1        27     1997.0     1994.0        3.0       NaN       NaN   \n",
       "0        28     1994.0     1995.0       -1.0       NaN       NaN   \n",
       "..      ...        ...        ...        ...       ...       ...   \n",
       "0        84     2006.0     2002.0        4.0      1.05      1.01   \n",
       "1        84     2006.0     2003.0        3.0      1.05      0.94   \n",
       "2        84     2006.0     2005.0        1.0      1.05      1.09   \n",
       "0        66     2004.0     2006.0       -2.0      2.17      0.39   \n",
       "0        67     2006.0     2004.0        2.0      0.39      2.17   \n",
       "\n",
       "                      clinical_setting  \n",
       "0                           ACEi (AMI)  \n",
       "1                           ACEi (AMI)  \n",
       "0                           ACEi (AMI)  \n",
       "1                           ACEi (AMI)  \n",
       "0                           ACEi (AMI)  \n",
       "..                                 ...  \n",
       "0   right heart catheterization vs not  \n",
       "1   right heart catheterization vs not  \n",
       "2   right heart catheterization vs not  \n",
       "0            tracheostomy vs not (ICU)  \n",
       "0            tracheostomy vs not (ICU)  \n",
       "\n",
       "[368 rows x 7 columns]"
      ]
     },
     "execution_count": 21,
     "metadata": {},
     "output_type": "execute_result"
    }
   ],
   "source": [
    "pair_rct_df"
   ]
  },
  {
   "cell_type": "code",
   "execution_count": 22,
   "metadata": {},
   "outputs": [],
   "source": [
    "pair_rct_df['rct1_est'] = np.log(pair_rct_df['rct1_est'])\n",
    "pair_rct_df['rct2_est'] = np.log(pair_rct_df['rct2_est'])"
   ]
  },
  {
   "cell_type": "code",
   "execution_count": 23,
   "metadata": {},
   "outputs": [],
   "source": [
    "no_zero_rct_pairs = pair_rct_df[pair_rct_df['year_diff'] != 0].copy()"
   ]
  },
  {
   "cell_type": "code",
   "execution_count": 24,
   "metadata": {},
   "outputs": [],
   "source": [
    "# indicator function for the PS study coming *after* the RCT\n",
    "no_zero_rct_pairs['rct_after'] = (no_zero_rct_pairs['year_diff'] > 0).astype(int)"
   ]
  },
  {
   "cell_type": "code",
   "execution_count": 25,
   "metadata": {},
   "outputs": [
    {
     "name": "stdout",
     "output_type": "stream",
     "text": [
      "332 individual pairs\n",
      "36 grouped pairs\n"
     ]
    },
    {
     "data": {
      "text/html": [
       "<div>\n",
       "<style scoped>\n",
       "    .dataframe tbody tr th:only-of-type {\n",
       "        vertical-align: middle;\n",
       "    }\n",
       "\n",
       "    .dataframe tbody tr th {\n",
       "        vertical-align: top;\n",
       "    }\n",
       "\n",
       "    .dataframe thead th {\n",
       "        text-align: right;\n",
       "    }\n",
       "</style>\n",
       "<table border=\"1\" class=\"dataframe\">\n",
       "  <thead>\n",
       "    <tr style=\"text-align: right;\">\n",
       "      <th></th>\n",
       "      <th>names</th>\n",
       "      <th>coef</th>\n",
       "      <th>se</th>\n",
       "      <th>pval</th>\n",
       "      <th>CI[2.5%]</th>\n",
       "      <th>CI[97.5%]</th>\n",
       "    </tr>\n",
       "  </thead>\n",
       "  <tbody>\n",
       "    <tr>\n",
       "      <th>individual pairs, before</th>\n",
       "      <td>rct1_est</td>\n",
       "      <td>-0.000005</td>\n",
       "      <td>0.089123</td>\n",
       "      <td>0.999959</td>\n",
       "      <td>-0.176014</td>\n",
       "      <td>0.176005</td>\n",
       "    </tr>\n",
       "    <tr>\n",
       "      <th>individual pairs, after</th>\n",
       "      <td>rct1_est</td>\n",
       "      <td>-0.000004</td>\n",
       "      <td>0.070128</td>\n",
       "      <td>0.999959</td>\n",
       "      <td>-0.138499</td>\n",
       "      <td>0.138492</td>\n",
       "    </tr>\n",
       "    <tr>\n",
       "      <th>grouped pairs, before</th>\n",
       "      <td>rct1_est</td>\n",
       "      <td>0.110876</td>\n",
       "      <td>0.224736</td>\n",
       "      <td>0.629406</td>\n",
       "      <td>-0.371135</td>\n",
       "      <td>0.592888</td>\n",
       "    </tr>\n",
       "    <tr>\n",
       "      <th>grouped pairs, after</th>\n",
       "      <td>rct1_est</td>\n",
       "      <td>0.154127</td>\n",
       "      <td>0.312401</td>\n",
       "      <td>0.629406</td>\n",
       "      <td>-0.515908</td>\n",
       "      <td>0.824162</td>\n",
       "    </tr>\n",
       "  </tbody>\n",
       "</table>\n",
       "</div>"
      ],
      "text/plain": [
       "                             names      coef        se      pval  CI[2.5%]  \\\n",
       "individual pairs, before  rct1_est -0.000005  0.089123  0.999959 -0.176014   \n",
       "individual pairs, after   rct1_est -0.000004  0.070128  0.999959 -0.138499   \n",
       "grouped pairs, before     rct1_est  0.110876  0.224736  0.629406 -0.371135   \n",
       "grouped pairs, after      rct1_est  0.154127  0.312401  0.629406 -0.515908   \n",
       "\n",
       "                         CI[97.5%]  \n",
       "individual pairs, before  0.176005  \n",
       "individual pairs, after   0.138492  \n",
       "grouped pairs, before     0.592888  \n",
       "grouped pairs, after      0.824162  "
      ]
     },
     "metadata": {},
     "output_type": "display_data"
    },
    {
     "data": {
      "image/png": "[encoded data removed]",
      "text/plain": [
       "<Figure size 1500x500 with 2 Axes>"
      ]
     },
     "metadata": {
      "needs_background": "light"
     },
     "output_type": "display_data"
    }
   ],
   "source": [
    "fig, (ax1,ax2) = plt.subplots(1, 2, dpi=125, figsize=(12,4))\n",
    "\n",
    "sns.scatterplot(data=no_zero_rct_pairs, x='rct1_est', y='rct2_est', hue='rct_after', ax=ax1, legend=False)\n",
    "sns.regplot(data=no_zero_rct_pairs[no_zero_rct_pairs['rct_after'] == 0], x='rct1_est', y='rct2_est', color='blue', ax=ax1)\n",
    "sns.regplot(data=no_zero_rct_pairs[no_zero_rct_pairs['rct_after'] == 1], x='rct1_est', y='rct2_est', color='orange', ax=ax1)\n",
    "ax1.set_title(\"outlier clipped, individual pairs\")\n",
    "ax1.set_xlabel(\"log RCT 1 study effect estimate\")\n",
    "ax1.set_ylabel(\"log RCT 2 study effect estimate\")\n",
    "ax1.plot(np.arange(-5, 5, 0.1), np.arange(-5, 5, 0.1), ls='--', color='red')\n",
    "ax1.set_ylim(-1.25, 0.75)\n",
    "ax1.set_xlim(-1.25, 0.75)\n",
    "\n",
    "\n",
    "group_col = \"clinical_setting\"\n",
    "#grouped = no_zero_rct_pairs.sort_values(by=[group_col, 'rct_ci_diff'], ascending=True).groupby(['ps_after', group_col], as_index=False)[['ps_est', 'rct_est']].head()\n",
    "grouped = no_zero_rct_pairs.groupby(['rct_after', group_col], as_index=False)[['rct1_est', 'rct2_est']].mean()\n",
    "print(f\"{no_zero_rct_pairs.shape[0]} individual pairs\")\n",
    "print(f\"{grouped.shape[0]} grouped pairs\")\n",
    "x0,x1 = ax1.get_xlim()\n",
    "y0,y1 = ax1.get_ylim()\n",
    "ax1.set_aspect((x1-x0)/(y1-y0))\n",
    "\n",
    "\n",
    "sns.scatterplot(data=grouped, x='rct1_est', y='rct2_est', hue='rct_after', ax=ax2)\n",
    "sns.regplot(data=grouped[grouped['rct_after'] == 0], x='rct1_est', y='rct2_est', color='blue', ax=ax2)\n",
    "sns.regplot(data=grouped[grouped['rct_after'] == 1], x='rct1_est', y='rct2_est', color='orange', ax=ax2)\n",
    "ax2.set_title(f\"outlier clipped, grouped by {group_col}\")\n",
    "ax2.set_xlabel(\"log RCT 1 study effect estimate\")\n",
    "ax2.set_ylabel(\"log RCT 2 study effect estimate\")\n",
    "ax2.set_ylim(-1.25, 0.75)\n",
    "\n",
    "# # show regression results\n",
    "name_dict = {\n",
    "    'individual pairs, before': no_zero_rct_pairs[no_zero_rct_pairs['rct_after'] == 0],\n",
    "    'individual pairs, after': no_zero_rct_pairs[no_zero_rct_pairs['rct_after'] == 1],\n",
    "    'grouped pairs, before': grouped[grouped['rct_after'] == 0],\n",
    "    'grouped pairs, after': grouped[grouped['rct_after'] == 1],\n",
    "}\n",
    "\n",
    "reg_df = pd.DataFrame()\n",
    "for name, data in name_dict.items():\n",
    "    df = get_reg_results(data, name, x='rct1_est', y='rct2_est')\n",
    "    reg_df = reg_df.append(df)\n",
    "\n",
    "display(reg_df)"
   ]
  }
 ],
 "metadata": {
  "hide_input": false,
  "interpreter": {
   "hash": "c5e384680b37c811d5c050863cd2e1b7b7fb22fa41e6ef4def208bf90ddd8ddd"
  },
  "kernelspec": {
   "display_name": "Python 3",
   "language": "python",
   "name": "python3"
  },
  "language_info": {
   "codemirror_mode": {
    "name": "ipython",
    "version": 3
   },
   "file_extension": ".py",
   "mimetype": "text/x-python",
   "name": "python",
   "nbconvert_exporter": "python",
   "pygments_lexer": "ipython3",
   "version": "3.7.7"
  },
  "varInspector": {
   "cols": {
    "lenName": 16,
    "lenType": 16,
    "lenVar": 40
   },
   "kernels_config": {
    "python": {
     "delete_cmd_postfix": "",
     "delete_cmd_prefix": "del ",
     "library": "var_list.py",
     "varRefreshCmd": "print(var_dic_list())"
    },
    "r": {
     "delete_cmd_postfix": ") ",
     "delete_cmd_prefix": "rm(",
     "library": "var_list.r",
     "varRefreshCmd": "cat(var_dic_list()) "
    }
   },
   "types_to_exclude": [
    "module",
    "function",
    "builtin_function_or_method",
    "instance",
    "_Feature"
   ],
   "window_display": false
  }
 },
 "nbformat": 4,
 "nbformat_minor": 2
}
