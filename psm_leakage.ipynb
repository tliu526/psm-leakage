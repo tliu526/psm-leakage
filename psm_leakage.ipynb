{
 "cells": [
  {
   "cell_type": "markdown",
   "metadata": {},
   "source": [
    "# Description"
   ]
  },
  {
   "cell_type": "markdown",
   "metadata": {},
   "source": [
    "Initial EDA for potential propensity score matching leakage."
   ]
  },
  {
   "cell_type": "markdown",
   "metadata": {},
   "source": [
    "# Imports"
   ]
  },
  {
   "cell_type": "code",
   "execution_count": 1,
   "metadata": {},
   "outputs": [],
   "source": [
    "import numpy as np\n",
    "import pandas as pd\n",
    "import seaborn as sns\n",
    "import matplotlib.pyplot as plt\n",
    "import pingouin as pg\n",
    "\n",
    "%matplotlib inline"
   ]
  },
  {
   "cell_type": "markdown",
   "metadata": {},
   "source": [
    "# Load data"
   ]
  },
  {
   "cell_type": "code",
   "execution_count": 10,
   "metadata": {},
   "outputs": [
    {
     "data": {
      "text/html": [
       "<div>\n",
       "<style scoped>\n",
       "    .dataframe tbody tr th:only-of-type {\n",
       "        vertical-align: middle;\n",
       "    }\n",
       "\n",
       "    .dataframe tbody tr th {\n",
       "        vertical-align: top;\n",
       "    }\n",
       "\n",
       "    .dataframe thead th {\n",
       "        text-align: right;\n",
       "    }\n",
       "</style>\n",
       "<table border=\"1\" class=\"dataframe\">\n",
       "  <thead>\n",
       "    <tr style=\"text-align: right;\">\n",
       "      <th></th>\n",
       "      <th>study_id</th>\n",
       "      <th>study_type</th>\n",
       "      <th>year</th>\n",
       "      <th>clinical_setting</th>\n",
       "      <th>estimate</th>\n",
       "      <th>lower_ci</th>\n",
       "      <th>upper_ci</th>\n",
       "    </tr>\n",
       "  </thead>\n",
       "  <tbody>\n",
       "    <tr>\n",
       "      <th>0</th>\n",
       "      <td>0</td>\n",
       "      <td>RCT</td>\n",
       "      <td>2001</td>\n",
       "      <td>APC in sepsis (inhospital)</td>\n",
       "      <td>0.85</td>\n",
       "      <td>0.50</td>\n",
       "      <td>1.44</td>\n",
       "    </tr>\n",
       "    <tr>\n",
       "      <th>1</th>\n",
       "      <td>1</td>\n",
       "      <td>RCT</td>\n",
       "      <td>2001</td>\n",
       "      <td>APC in sepsis (inhospital)</td>\n",
       "      <td>0.80</td>\n",
       "      <td>0.69</td>\n",
       "      <td>0.94</td>\n",
       "    </tr>\n",
       "    <tr>\n",
       "      <th>2</th>\n",
       "      <td>2</td>\n",
       "      <td>RCT</td>\n",
       "      <td>2005</td>\n",
       "      <td>APC in sepsis (inhospital)</td>\n",
       "      <td>0.92</td>\n",
       "      <td>0.78</td>\n",
       "      <td>1.06</td>\n",
       "    </tr>\n",
       "    <tr>\n",
       "      <th>3</th>\n",
       "      <td>3</td>\n",
       "      <td>RCT</td>\n",
       "      <td>2009</td>\n",
       "      <td>APC in sepsis (inhospital)</td>\n",
       "      <td>1.26</td>\n",
       "      <td>0.86</td>\n",
       "      <td>1.85</td>\n",
       "    </tr>\n",
       "    <tr>\n",
       "      <th>4</th>\n",
       "      <td>4</td>\n",
       "      <td>RCT</td>\n",
       "      <td>2012</td>\n",
       "      <td>APC in sepsis (inhospital)</td>\n",
       "      <td>1.09</td>\n",
       "      <td>0.92</td>\n",
       "      <td>1.26</td>\n",
       "    </tr>\n",
       "  </tbody>\n",
       "</table>\n",
       "</div>"
      ],
      "text/plain": [
       "   study_id study_type  year            clinical_setting  estimate  lower_ci  \\\n",
       "0         0        RCT  2001  APC in sepsis (inhospital)      0.85      0.50   \n",
       "1         1        RCT  2001  APC in sepsis (inhospital)      0.80      0.69   \n",
       "2         2        RCT  2005  APC in sepsis (inhospital)      0.92      0.78   \n",
       "3         3        RCT  2009  APC in sepsis (inhospital)      1.26      0.86   \n",
       "4         4        RCT  2012  APC in sepsis (inhospital)      1.09      0.92   \n",
       "\n",
       "   upper_ci  \n",
       "0      1.44  \n",
       "1      0.94  \n",
       "2      1.06  \n",
       "3      1.85  \n",
       "4      1.26  "
      ]
     },
     "execution_count": 10,
     "metadata": {},
     "output_type": "execute_result"
    }
   ],
   "source": [
    "psm_leak = pd.read_csv(\"psm_leakage.csv\")\n",
    "\n",
    "# create a unique study id via index\n",
    "psm_leak = psm_leak.reset_index()\n",
    "psm_leak = psm_leak.rename({\"index\": \"study_id\"}, axis=\"columns\")\n",
    "psm_leak.head()"
   ]
  },
  {
   "cell_type": "code",
   "execution_count": 11,
   "metadata": {},
   "outputs": [
    {
     "data": {
      "text/plain": [
       "RCT    62\n",
       "PS     27\n",
       "Name: study_type, dtype: int64"
      ]
     },
     "execution_count": 11,
     "metadata": {},
     "output_type": "execute_result"
    }
   ],
   "source": [
    "psm_leak['study_type'].value_counts()"
   ]
  },
  {
   "cell_type": "markdown",
   "metadata": {},
   "source": [
    "# Compute pairwise differences"
   ]
  },
  {
   "cell_type": "code",
   "execution_count": 44,
   "metadata": {},
   "outputs": [],
   "source": [
    "pair_df = pd.DataFrame()\n",
    "for clinic_set, group in psm_leak.groupby(\"clinical_setting\"):\n",
    "    ps_df = group[group['study_type'] == 'PS']\n",
    "    rct_df = group[group['study_type'] == 'RCT']\n",
    "    for idx, ps in ps_df.iterrows():\n",
    "        ps_dict = {\n",
    "            \"study_id\": [],\n",
    "            \"rct_year\": [],\n",
    "            \"ps_year\": [],\n",
    "            \"year_diff\": [],\n",
    "            \"rct_est\": [],\n",
    "            \"ps_est\": []\n",
    "        }\n",
    "        for idx, rct in rct_df.iterrows():\n",
    "            ps_dict['study_id'].append(ps['study_id'])\n",
    "            ps_dict['ps_year'].append(ps['year'])\n",
    "            ps_dict['rct_year'].append(rct['year'])\n",
    "            ps_dict['year_diff'].append(ps['year'] - rct['year'])\n",
    "            ps_dict['rct_est'].append(rct['estimate'])\n",
    "            ps_dict['ps_est'].append(ps['estimate'])\n",
    "\n",
    "        \n",
    "        df = pd.DataFrame.from_dict(ps_dict)\n",
    "        pair_df = pair_df.append(df)"
   ]
  },
  {
   "cell_type": "code",
   "execution_count": 45,
   "metadata": {},
   "outputs": [],
   "source": [
    "pair_df['raw_diff'] = pair_df['ps_est'] - pair_df['rct_est']\n",
    "pair_df['norm_diff'] = pair_df['raw_diff'] / (pair_df['ps_est'] + pair_df['rct_est'])"
   ]
  },
  {
   "cell_type": "code",
   "execution_count": 46,
   "metadata": {},
   "outputs": [],
   "source": [
    "no_zero_pairs = pair_df[pair_df['year_diff'] != 0]"
   ]
  },
  {
   "cell_type": "code",
   "execution_count": 47,
   "metadata": {},
   "outputs": [
    {
     "name": "stderr",
     "output_type": "stream",
     "text": [
      "/home/tliu/.conda/envs/rdd/lib/python3.7/site-packages/ipykernel_launcher.py:1: SettingWithCopyWarning: \n",
      "A value is trying to be set on a copy of a slice from a DataFrame.\n",
      "Try using .loc[row_indexer,col_indexer] = value instead\n",
      "\n",
      "See the caveats in the documentation: https://pandas.pydata.org/pandas-docs/stable/user_guide/indexing.html#returning-a-view-versus-a-copy\n",
      "  \"\"\"Entry point for launching an IPython kernel.\n"
     ]
    }
   ],
   "source": [
    "no_zero_pairs['ps_after'] = (no_zero_pairs['year_diff'] > 0).astype(int)"
   ]
  },
  {
   "cell_type": "code",
   "execution_count": 48,
   "metadata": {},
   "outputs": [
    {
     "data": {
      "text/html": [
       "<div>\n",
       "<style scoped>\n",
       "    .dataframe tbody tr th:only-of-type {\n",
       "        vertical-align: middle;\n",
       "    }\n",
       "\n",
       "    .dataframe tbody tr th {\n",
       "        vertical-align: top;\n",
       "    }\n",
       "\n",
       "    .dataframe thead th {\n",
       "        text-align: right;\n",
       "    }\n",
       "</style>\n",
       "<table border=\"1\" class=\"dataframe\">\n",
       "  <thead>\n",
       "    <tr style=\"text-align: right;\">\n",
       "      <th></th>\n",
       "      <th>study_id</th>\n",
       "      <th>rct_year</th>\n",
       "      <th>ps_year</th>\n",
       "      <th>year_diff</th>\n",
       "      <th>rct_est</th>\n",
       "      <th>ps_est</th>\n",
       "      <th>raw_diff</th>\n",
       "      <th>norm_diff</th>\n",
       "      <th>ps_after</th>\n",
       "    </tr>\n",
       "  </thead>\n",
       "  <tbody>\n",
       "    <tr>\n",
       "      <th>0</th>\n",
       "      <td>5</td>\n",
       "      <td>2001</td>\n",
       "      <td>2008</td>\n",
       "      <td>7</td>\n",
       "      <td>0.85</td>\n",
       "      <td>0.72</td>\n",
       "      <td>-0.13</td>\n",
       "      <td>-0.082803</td>\n",
       "      <td>1</td>\n",
       "    </tr>\n",
       "    <tr>\n",
       "      <th>1</th>\n",
       "      <td>5</td>\n",
       "      <td>2001</td>\n",
       "      <td>2008</td>\n",
       "      <td>7</td>\n",
       "      <td>0.80</td>\n",
       "      <td>0.72</td>\n",
       "      <td>-0.08</td>\n",
       "      <td>-0.052632</td>\n",
       "      <td>1</td>\n",
       "    </tr>\n",
       "    <tr>\n",
       "      <th>2</th>\n",
       "      <td>5</td>\n",
       "      <td>2005</td>\n",
       "      <td>2008</td>\n",
       "      <td>3</td>\n",
       "      <td>0.92</td>\n",
       "      <td>0.72</td>\n",
       "      <td>-0.20</td>\n",
       "      <td>-0.121951</td>\n",
       "      <td>1</td>\n",
       "    </tr>\n",
       "    <tr>\n",
       "      <th>3</th>\n",
       "      <td>5</td>\n",
       "      <td>2009</td>\n",
       "      <td>2008</td>\n",
       "      <td>-1</td>\n",
       "      <td>1.26</td>\n",
       "      <td>0.72</td>\n",
       "      <td>-0.54</td>\n",
       "      <td>-0.272727</td>\n",
       "      <td>0</td>\n",
       "    </tr>\n",
       "    <tr>\n",
       "      <th>4</th>\n",
       "      <td>5</td>\n",
       "      <td>2012</td>\n",
       "      <td>2008</td>\n",
       "      <td>-4</td>\n",
       "      <td>1.09</td>\n",
       "      <td>0.72</td>\n",
       "      <td>-0.37</td>\n",
       "      <td>-0.204420</td>\n",
       "      <td>0</td>\n",
       "    </tr>\n",
       "  </tbody>\n",
       "</table>\n",
       "</div>"
      ],
      "text/plain": [
       "   study_id  rct_year  ps_year  year_diff  rct_est  ps_est  raw_diff  \\\n",
       "0         5      2001     2008          7     0.85    0.72     -0.13   \n",
       "1         5      2001     2008          7     0.80    0.72     -0.08   \n",
       "2         5      2005     2008          3     0.92    0.72     -0.20   \n",
       "3         5      2009     2008         -1     1.26    0.72     -0.54   \n",
       "4         5      2012     2008         -4     1.09    0.72     -0.37   \n",
       "\n",
       "   norm_diff  ps_after  \n",
       "0  -0.082803         1  \n",
       "1  -0.052632         1  \n",
       "2  -0.121951         1  \n",
       "3  -0.272727         0  \n",
       "4  -0.204420         0  "
      ]
     },
     "execution_count": 48,
     "metadata": {},
     "output_type": "execute_result"
    }
   ],
   "source": [
    "no_zero_pairs.head()"
   ]
  },
  {
   "cell_type": "code",
   "execution_count": 52,
   "metadata": {},
   "outputs": [
    {
     "data": {
      "text/html": [
       "<div>\n",
       "<style scoped>\n",
       "    .dataframe tbody tr th:only-of-type {\n",
       "        vertical-align: middle;\n",
       "    }\n",
       "\n",
       "    .dataframe tbody tr th {\n",
       "        vertical-align: top;\n",
       "    }\n",
       "\n",
       "    .dataframe thead th {\n",
       "        text-align: right;\n",
       "    }\n",
       "</style>\n",
       "<table border=\"1\" class=\"dataframe\">\n",
       "  <thead>\n",
       "    <tr style=\"text-align: right;\">\n",
       "      <th></th>\n",
       "      <th>ps_after</th>\n",
       "      <th>0</th>\n",
       "      <th>1</th>\n",
       "    </tr>\n",
       "  </thead>\n",
       "  <tbody>\n",
       "    <tr>\n",
       "      <th rowspan=\"8\" valign=\"top\">raw_diff</th>\n",
       "      <th>count</th>\n",
       "      <td>33.000000</td>\n",
       "      <td>56.000000</td>\n",
       "    </tr>\n",
       "    <tr>\n",
       "      <th>mean</th>\n",
       "      <td>0.119394</td>\n",
       "      <td>0.112679</td>\n",
       "    </tr>\n",
       "    <tr>\n",
       "      <th>std</th>\n",
       "      <td>0.526135</td>\n",
       "      <td>0.630764</td>\n",
       "    </tr>\n",
       "    <tr>\n",
       "      <th>min</th>\n",
       "      <td>-0.670000</td>\n",
       "      <td>-1.700000</td>\n",
       "    </tr>\n",
       "    <tr>\n",
       "      <th>25%</th>\n",
       "      <td>-0.220000</td>\n",
       "      <td>-0.260000</td>\n",
       "    </tr>\n",
       "    <tr>\n",
       "      <th>50%</th>\n",
       "      <td>0.070000</td>\n",
       "      <td>0.015000</td>\n",
       "    </tr>\n",
       "    <tr>\n",
       "      <th>75%</th>\n",
       "      <td>0.390000</td>\n",
       "      <td>0.217500</td>\n",
       "    </tr>\n",
       "    <tr>\n",
       "      <th>max</th>\n",
       "      <td>1.610000</td>\n",
       "      <td>2.050000</td>\n",
       "    </tr>\n",
       "    <tr>\n",
       "      <th rowspan=\"8\" valign=\"top\">norm_diff</th>\n",
       "      <th>count</th>\n",
       "      <td>33.000000</td>\n",
       "      <td>56.000000</td>\n",
       "    </tr>\n",
       "    <tr>\n",
       "      <th>mean</th>\n",
       "      <td>0.034064</td>\n",
       "      <td>0.044259</td>\n",
       "    </tr>\n",
       "    <tr>\n",
       "      <th>std</th>\n",
       "      <td>0.264774</td>\n",
       "      <td>0.275192</td>\n",
       "    </tr>\n",
       "    <tr>\n",
       "      <th>min</th>\n",
       "      <td>-0.412698</td>\n",
       "      <td>-0.643939</td>\n",
       "    </tr>\n",
       "    <tr>\n",
       "      <th>25%</th>\n",
       "      <td>-0.112245</td>\n",
       "      <td>-0.132364</td>\n",
       "    </tr>\n",
       "    <tr>\n",
       "      <th>50%</th>\n",
       "      <td>0.033493</td>\n",
       "      <td>0.007966</td>\n",
       "    </tr>\n",
       "    <tr>\n",
       "      <th>75%</th>\n",
       "      <td>0.139159</td>\n",
       "      <td>0.129490</td>\n",
       "    </tr>\n",
       "    <tr>\n",
       "      <th>max</th>\n",
       "      <td>0.842932</td>\n",
       "      <td>0.873874</td>\n",
       "    </tr>\n",
       "  </tbody>\n",
       "</table>\n",
       "</div>"
      ],
      "text/plain": [
       "ps_after                 0          1\n",
       "raw_diff  count  33.000000  56.000000\n",
       "          mean    0.119394   0.112679\n",
       "          std     0.526135   0.630764\n",
       "          min    -0.670000  -1.700000\n",
       "          25%    -0.220000  -0.260000\n",
       "          50%     0.070000   0.015000\n",
       "          75%     0.390000   0.217500\n",
       "          max     1.610000   2.050000\n",
       "norm_diff count  33.000000  56.000000\n",
       "          mean    0.034064   0.044259\n",
       "          std     0.264774   0.275192\n",
       "          min    -0.412698  -0.643939\n",
       "          25%    -0.112245  -0.132364\n",
       "          50%     0.033493   0.007966\n",
       "          75%     0.139159   0.129490\n",
       "          max     0.842932   0.873874"
      ]
     },
     "execution_count": 52,
     "metadata": {},
     "output_type": "execute_result"
    }
   ],
   "source": [
    "no_zero_pairs.groupby('ps_after')[['raw_diff', 'norm_diff']].describe().transpose()"
   ]
  },
  {
   "cell_type": "markdown",
   "metadata": {},
   "source": [
    "# Look at \"closest\" RCT before"
   ]
  },
  {
   "cell_type": "code",
   "execution_count": 53,
   "metadata": {},
   "outputs": [],
   "source": [
    "before_pairs = pair_df[pair_df['year_diff'] > 0]"
   ]
  },
  {
   "cell_type": "code",
   "execution_count": 60,
   "metadata": {},
   "outputs": [
    {
     "data": {
      "text/html": [
       "<div>\n",
       "<style scoped>\n",
       "    .dataframe tbody tr th:only-of-type {\n",
       "        vertical-align: middle;\n",
       "    }\n",
       "\n",
       "    .dataframe tbody tr th {\n",
       "        vertical-align: top;\n",
       "    }\n",
       "\n",
       "    .dataframe thead th {\n",
       "        text-align: right;\n",
       "    }\n",
       "</style>\n",
       "<table border=\"1\" class=\"dataframe\">\n",
       "  <thead>\n",
       "    <tr style=\"text-align: right;\">\n",
       "      <th></th>\n",
       "      <th>count</th>\n",
       "      <th>mean</th>\n",
       "      <th>std</th>\n",
       "      <th>min</th>\n",
       "      <th>25%</th>\n",
       "      <th>50%</th>\n",
       "      <th>75%</th>\n",
       "      <th>max</th>\n",
       "    </tr>\n",
       "  </thead>\n",
       "  <tbody>\n",
       "    <tr>\n",
       "      <th>raw_diff</th>\n",
       "      <td>21.0</td>\n",
       "      <td>-0.004762</td>\n",
       "      <td>0.627133</td>\n",
       "      <td>-0.880000</td>\n",
       "      <td>-0.370000</td>\n",
       "      <td>-0.070000</td>\n",
       "      <td>0.060000</td>\n",
       "      <td>2.050000</td>\n",
       "    </tr>\n",
       "    <tr>\n",
       "      <th>norm_diff</th>\n",
       "      <td>21.0</td>\n",
       "      <td>-0.014938</td>\n",
       "      <td>0.233414</td>\n",
       "      <td>-0.301775</td>\n",
       "      <td>-0.156118</td>\n",
       "      <td>-0.049645</td>\n",
       "      <td>0.021429</td>\n",
       "      <td>0.580737</td>\n",
       "    </tr>\n",
       "  </tbody>\n",
       "</table>\n",
       "</div>"
      ],
      "text/plain": [
       "           count      mean       std       min       25%       50%       75%  \\\n",
       "raw_diff    21.0 -0.004762  0.627133 -0.880000 -0.370000 -0.070000  0.060000   \n",
       "norm_diff   21.0 -0.014938  0.233414 -0.301775 -0.156118 -0.049645  0.021429   \n",
       "\n",
       "                max  \n",
       "raw_diff   2.050000  \n",
       "norm_diff  0.580737  "
      ]
     },
     "execution_count": 60,
     "metadata": {},
     "output_type": "execute_result"
    }
   ],
   "source": [
    "close_before = before_pairs.sort_values([\"study_id\", \"year_diff\"]).groupby(\"study_id\").head(1)\n",
    "close_before[['raw_diff', 'norm_diff']].describe().transpose()"
   ]
  },
  {
   "cell_type": "markdown",
   "metadata": {},
   "source": [
    "# Look at \"closest\" RCT after"
   ]
  },
  {
   "cell_type": "code",
   "execution_count": 61,
   "metadata": {},
   "outputs": [],
   "source": [
    "after_pairs = pair_df[pair_df['year_diff'] < 0]"
   ]
  },
  {
   "cell_type": "code",
   "execution_count": 66,
   "metadata": {},
   "outputs": [
    {
     "data": {
      "text/html": [
       "<div>\n",
       "<style scoped>\n",
       "    .dataframe tbody tr th:only-of-type {\n",
       "        vertical-align: middle;\n",
       "    }\n",
       "\n",
       "    .dataframe tbody tr th {\n",
       "        vertical-align: top;\n",
       "    }\n",
       "\n",
       "    .dataframe thead th {\n",
       "        text-align: right;\n",
       "    }\n",
       "</style>\n",
       "<table border=\"1\" class=\"dataframe\">\n",
       "  <thead>\n",
       "    <tr style=\"text-align: right;\">\n",
       "      <th></th>\n",
       "      <th>count</th>\n",
       "      <th>mean</th>\n",
       "      <th>std</th>\n",
       "      <th>min</th>\n",
       "      <th>25%</th>\n",
       "      <th>50%</th>\n",
       "      <th>75%</th>\n",
       "      <th>max</th>\n",
       "    </tr>\n",
       "  </thead>\n",
       "  <tbody>\n",
       "    <tr>\n",
       "      <th>raw_diff</th>\n",
       "      <td>13.0</td>\n",
       "      <td>0.070000</td>\n",
       "      <td>0.567700</td>\n",
       "      <td>-0.670000</td>\n",
       "      <td>-0.220000</td>\n",
       "      <td>-0.070000</td>\n",
       "      <td>0.220000</td>\n",
       "      <td>1.610000</td>\n",
       "    </tr>\n",
       "    <tr>\n",
       "      <th>norm_diff</th>\n",
       "      <td>13.0</td>\n",
       "      <td>0.030867</td>\n",
       "      <td>0.296692</td>\n",
       "      <td>-0.362162</td>\n",
       "      <td>-0.112245</td>\n",
       "      <td>-0.033175</td>\n",
       "      <td>0.108696</td>\n",
       "      <td>0.842932</td>\n",
       "    </tr>\n",
       "  </tbody>\n",
       "</table>\n",
       "</div>"
      ],
      "text/plain": [
       "           count      mean       std       min       25%       50%       75%  \\\n",
       "raw_diff    13.0  0.070000  0.567700 -0.670000 -0.220000 -0.070000  0.220000   \n",
       "norm_diff   13.0  0.030867  0.296692 -0.362162 -0.112245 -0.033175  0.108696   \n",
       "\n",
       "                max  \n",
       "raw_diff   1.610000  \n",
       "norm_diff  0.842932  "
      ]
     },
     "execution_count": 66,
     "metadata": {},
     "output_type": "execute_result"
    }
   ],
   "source": [
    "close_after = after_pairs.sort_values([\"study_id\", \"year_diff\"], ascending=False).groupby(\"study_id\").head(1)\n",
    "close_after[['raw_diff', 'norm_diff']].describe().transpose()"
   ]
  },
  {
   "cell_type": "code",
   "execution_count": 70,
   "metadata": {},
   "outputs": [
    {
     "data": {
      "text/html": [
       "<div>\n",
       "<style scoped>\n",
       "    .dataframe tbody tr th:only-of-type {\n",
       "        vertical-align: middle;\n",
       "    }\n",
       "\n",
       "    .dataframe tbody tr th {\n",
       "        vertical-align: top;\n",
       "    }\n",
       "\n",
       "    .dataframe thead th {\n",
       "        text-align: right;\n",
       "    }\n",
       "</style>\n",
       "<table border=\"1\" class=\"dataframe\">\n",
       "  <thead>\n",
       "    <tr style=\"text-align: right;\">\n",
       "      <th></th>\n",
       "      <th>T</th>\n",
       "      <th>dof</th>\n",
       "      <th>alternative</th>\n",
       "      <th>p-val</th>\n",
       "      <th>CI95%</th>\n",
       "      <th>cohen-d</th>\n",
       "      <th>BF10</th>\n",
       "      <th>power</th>\n",
       "    </tr>\n",
       "  </thead>\n",
       "  <tbody>\n",
       "    <tr>\n",
       "      <th>T-test</th>\n",
       "      <td>0.473302</td>\n",
       "      <td>21.098716</td>\n",
       "      <td>two-sided</td>\n",
       "      <td>0.640858</td>\n",
       "      <td>[-0.16, 0.25]</td>\n",
       "      <td>0.176877</td>\n",
       "      <td>0.366</td>\n",
       "      <td>0.077506</td>\n",
       "    </tr>\n",
       "  </tbody>\n",
       "</table>\n",
       "</div>"
      ],
      "text/plain": [
       "               T        dof alternative     p-val          CI95%   cohen-d  \\\n",
       "T-test  0.473302  21.098716   two-sided  0.640858  [-0.16, 0.25]  0.176877   \n",
       "\n",
       "         BF10     power  \n",
       "T-test  0.366  0.077506  "
      ]
     },
     "execution_count": 70,
     "metadata": {},
     "output_type": "execute_result"
    }
   ],
   "source": [
    "target_col = 'norm_diff'\n",
    "pg.ttest(close_after[target_col], close_before[target_col])"
   ]
  }
 ],
 "metadata": {
  "interpreter": {
   "hash": "c5e384680b37c811d5c050863cd2e1b7b7fb22fa41e6ef4def208bf90ddd8ddd"
  },
  "kernelspec": {
   "display_name": "Python 3.7.7 ('rdd')",
   "language": "python",
   "name": "python3"
  },
  "language_info": {
   "codemirror_mode": {
    "name": "ipython",
    "version": 3
   },
   "file_extension": ".py",
   "mimetype": "text/x-python",
   "name": "python",
   "nbconvert_exporter": "python",
   "pygments_lexer": "ipython3",
   "version": "3.7.7"
  },
  "orig_nbformat": 4
 },
 "nbformat": 4,
 "nbformat_minor": 2
}
