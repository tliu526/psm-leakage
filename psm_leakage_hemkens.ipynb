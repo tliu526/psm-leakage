{
 "cells": [
  {
   "cell_type": "markdown",
   "metadata": {},
   "source": [
    "# Description"
   ]
  },
  {
   "cell_type": "markdown",
   "metadata": {},
   "source": [
    "Initial EDA for potential propensity score matching leakage."
   ]
  },
  {
   "cell_type": "code",
   "execution_count": 1,
   "metadata": {},
   "outputs": [
    {
     "data": {
      "text/html": [
       "<script>\n",
       "code_show=true; \n",
       "function code_toggle() {\n",
       " if (code_show){\n",
       " $('div.input').hide();\n",
       " } else {\n",
       " $('div.input').show();\n",
       " }\n",
       " code_show = !code_show\n",
       "} \n",
       "$( document ).ready(code_toggle);\n",
       "</script>\n",
       "<form action=\"javascript:code_toggle()\"><input type=\"submit\" value=\"Click here to toggle on/off the raw code.\"></form>"
      ],
      "text/plain": [
       "<IPython.core.display.HTML object>"
      ]
     },
     "execution_count": 1,
     "metadata": {},
     "output_type": "execute_result"
    }
   ],
   "source": [
    "# source: https://stackoverflow.com/a/28073228\n",
    "from IPython.display import HTML\n",
    "\n",
    "HTML('''<script>\n",
    "code_show=true; \n",
    "function code_toggle() {\n",
    " if (code_show){\n",
    " $('div.input').hide();\n",
    " } else {\n",
    " $('div.input').show();\n",
    " }\n",
    " code_show = !code_show\n",
    "} \n",
    "$( document ).ready(code_toggle);\n",
    "</script>\n",
    "<form action=\"javascript:code_toggle()\"><input type=\"submit\" value=\"Click here to toggle on/off the raw code.\"></form>''')"
   ]
  },
  {
   "cell_type": "markdown",
   "metadata": {},
   "source": [
    "# Imports"
   ]
  },
  {
   "cell_type": "code",
   "execution_count": 2,
   "metadata": {},
   "outputs": [],
   "source": [
    "import numpy as np\n",
    "import pandas as pd\n",
    "import seaborn as sns\n",
    "import matplotlib.pyplot as plt\n",
    "import pingouin as pg\n",
    "\n",
    "from ipywidgets import interact\n",
    "\n",
    "%matplotlib inline"
   ]
  },
  {
   "cell_type": "markdown",
   "metadata": {},
   "source": [
    "# Load data"
   ]
  },
  {
   "cell_type": "markdown",
   "metadata": {},
   "source": [
    "## Kitsios 2015"
   ]
  },
  {
   "cell_type": "markdown",
   "metadata": {},
   "source": [
    "The `psm_leakage_kitsios2015.csv` file was collected from Supplementary Figure 2 of Kidsios et al. \"Can we trust observational studies using propensity scores in the critical care\n",
    "literature? A systematic comparison with randomized clinical trials.\"\n",
    "\n",
    "- [[Supplementary Material link](https://links.lww.com/CCM/B327)]"
   ]
  },
  {
   "cell_type": "code",
   "execution_count": 3,
   "metadata": {},
   "outputs": [],
   "source": [
    "psm_leak = pd.read_csv(\"data/psm_leakage_kitsios2015.csv\")\n",
    "\n",
    "# create a unique study id via index\n",
    "psm_leak = psm_leak.reset_index()\n",
    "psm_leak = psm_leak.rename({\"index\": \"study_id\"}, axis=\"columns\")\n",
    "psm_leak['study_id'] = psm_leak['study_id'].astype(str)\n",
    "psm_leak.head()\n",
    "psm_leak['ci_diff'] = psm_leak['upper_ci'] - psm_leak['lower_ci']"
   ]
  },
  {
   "cell_type": "code",
   "execution_count": 4,
   "metadata": {},
   "outputs": [
    {
     "data": {
      "text/plain": [
       "RCT    62\n",
       "PS     27\n",
       "Name: study_type, dtype: int64"
      ]
     },
     "execution_count": 4,
     "metadata": {},
     "output_type": "execute_result"
    }
   ],
   "source": [
    "psm_leak['study_type'].value_counts()"
   ]
  },
  {
   "cell_type": "markdown",
   "metadata": {},
   "source": [
    "## Hemkens 2016"
   ]
  },
  {
   "cell_type": "markdown",
   "metadata": {},
   "source": [
    "The Hemkens et al. 2016 data contains pooled RCT information for RCTs that only follow PS studies."
   ]
  },
  {
   "cell_type": "code",
   "execution_count": 5,
   "metadata": {},
   "outputs": [],
   "source": [
    "psm_leak = pd.read_csv(\"data/psm_leakage_hemkens2016.csv\")\n",
    "\n",
    "# create a unique study id via index\n",
    "psm_leak = psm_leak.reset_index()\n",
    "psm_leak = psm_leak.rename({\"index\": \"study_id\"}, axis=\"columns\")\n",
    "psm_leak['study_id'] = psm_leak['study_id'].astype(str)\n",
    "psm_leak.head()\n",
    "psm_leak['ci_diff'] = psm_leak['upper_ci'] - psm_leak['lower_ci']"
   ]
  },
  {
   "cell_type": "code",
   "execution_count": 6,
   "metadata": {},
   "outputs": [
    {
     "data": {
      "text/plain": [
       "PS     16\n",
       "RCT    16\n",
       "Name: study_type, dtype: int64"
      ]
     },
     "execution_count": 6,
     "metadata": {},
     "output_type": "execute_result"
    }
   ],
   "source": [
    "psm_leak['study_type'].value_counts()"
   ]
  },
  {
   "cell_type": "markdown",
   "metadata": {},
   "source": [
    "# Clip studies with large CIs"
   ]
  },
  {
   "cell_type": "markdown",
   "metadata": {},
   "source": [
    "During a live coding session, Konrad and I examined the confidence intervals\n",
    "and decided to remove studies with large intervals -- the choice of 3 as the cutoff\n",
    "was arbitrary based on visual inspection and more formal analysis will need a more formal method for outlier\n",
    "removal (e.g. 2-3 SDs)."
   ]
  },
  {
   "cell_type": "code",
   "execution_count": 7,
   "metadata": {},
   "outputs": [
    {
     "data": {
      "image/png": "[encoded data removed]",
      "text/plain": [
       "<Figure size 1200x600 with 2 Axes>"
      ]
     },
     "metadata": {
      "needs_background": "light"
     },
     "output_type": "display_data"
    }
   ],
   "source": [
    "fig, (ax1, ax2) = plt.subplots(1, 2, dpi=150, figsize=(8,4))\n",
    "rct = psm_leak[psm_leak['study_type'] == 'RCT']\n",
    "ps = psm_leak[psm_leak['study_type'] == 'PS']\n",
    "\n",
    "sns.scatterplot(data=rct, x='estimate', y='ci_diff', ax=ax1)\n",
    "ax1.set_ylim(0, 8)\n",
    "ax1.set_xlabel(\"rct estimates\")\n",
    "ax1.axhline(y=3, ls='--', color='red', label='cutoff')\n",
    "ax1.legend()\n",
    "\n",
    "sns.scatterplot(data=ps, x='estimate', y='ci_diff', ax=ax2)\n",
    "ax2.set_ylim(0, 8)\n",
    "ax2.axhline(y=3, ls='--', color='red', label='cutoff')\n",
    "ax2.set_xlabel(\"ps estimates\");\n"
   ]
  },
  {
   "cell_type": "code",
   "execution_count": 8,
   "metadata": {},
   "outputs": [],
   "source": [
    "sel_psm_leak = psm_leak[psm_leak['ci_diff'] < 3]"
   ]
  },
  {
   "cell_type": "markdown",
   "metadata": {},
   "source": [
    "# Compute pairwise differences\n",
    "\n",
    "For each PS study within a clinical setting, we pair it with an RCT and compute\n",
    "the year difference between each pair.\n",
    "\n",
    "**TODO**: since this is a one-to-many mapping *per PS study*, there will be \n",
    "repeated measurements of both PS and RCT studies. More formal analysis will need\n",
    "to account for this group structure."
   ]
  },
  {
   "cell_type": "code",
   "execution_count": 9,
   "metadata": {},
   "outputs": [],
   "source": [
    "pair_df = pd.DataFrame()\n",
    "for clinic_set, group in sel_psm_leak.groupby(\"clinical_setting\"):\n",
    "    ps_df = group[group['study_type'] == 'PS']\n",
    "    rct_df = group[group['study_type'] == 'RCT']\n",
    "    for ps_idx, ps in ps_df.iterrows():\n",
    "        ps_dict = {\n",
    "            \"study_id\": [],\n",
    "            \"rct_year\": [],\n",
    "            \"ps_year\": [],\n",
    "            \"year_diff\": [],\n",
    "            \"rct_est\": [],\n",
    "            \"ps_est\": [],\n",
    "            \"clinical_setting\": [],\n",
    "            'rct_ci_diff': []\n",
    "        }\n",
    "        for rct_idx, rct in rct_df.iterrows():\n",
    "            ps_dict['study_id'].append(ps['study_id'])\n",
    "            ps_dict['ps_year'].append(ps['year'])\n",
    "            ps_dict['rct_year'].append(rct['year'])\n",
    "            ps_dict['year_diff'].append(ps['year'] - rct['year'])\n",
    "            ps_dict['rct_est'].append(rct['estimate'])\n",
    "            ps_dict['ps_est'].append(ps['estimate'])\n",
    "            ps_dict['clinical_setting'].append(ps['clinical_setting'])\n",
    "            ps_dict['rct_ci_diff'].append(rct['ci_diff'])\n",
    "        \n",
    "        df = pd.DataFrame.from_dict(ps_dict)\n",
    "        pair_df = pair_df.append(df)"
   ]
  },
  {
   "cell_type": "markdown",
   "metadata": {},
   "source": [
    "Some sanity check assertions:"
   ]
  },
  {
   "cell_type": "code",
   "execution_count": 10,
   "metadata": {},
   "outputs": [
    {
     "data": {
      "text/html": [
       "<div>\n",
       "<style scoped>\n",
       "    .dataframe tbody tr th:only-of-type {\n",
       "        vertical-align: middle;\n",
       "    }\n",
       "\n",
       "    .dataframe tbody tr th {\n",
       "        vertical-align: top;\n",
       "    }\n",
       "\n",
       "    .dataframe thead th {\n",
       "        text-align: right;\n",
       "    }\n",
       "</style>\n",
       "<table border=\"1\" class=\"dataframe\">\n",
       "  <thead>\n",
       "    <tr style=\"text-align: right;\">\n",
       "      <th></th>\n",
       "      <th>study_id</th>\n",
       "      <th>study_type</th>\n",
       "      <th>year</th>\n",
       "      <th>clinical_setting</th>\n",
       "      <th>estimate</th>\n",
       "      <th>lower_ci</th>\n",
       "      <th>upper_ci</th>\n",
       "      <th>ci_diff</th>\n",
       "    </tr>\n",
       "  </thead>\n",
       "  <tbody>\n",
       "    <tr>\n",
       "      <th>0</th>\n",
       "      <td>0</td>\n",
       "      <td>PS</td>\n",
       "      <td>2016</td>\n",
       "      <td>Preincision prophylactic intra-aortic balloon ...</td>\n",
       "      <td>0.91</td>\n",
       "      <td>0.74</td>\n",
       "      <td>1.15</td>\n",
       "      <td>0.41</td>\n",
       "    </tr>\n",
       "    <tr>\n",
       "      <th>1</th>\n",
       "      <td>1</td>\n",
       "      <td>RCT</td>\n",
       "      <td>2017</td>\n",
       "      <td>Preincision prophylactic intra-aortic balloon ...</td>\n",
       "      <td>0.67</td>\n",
       "      <td>0.19</td>\n",
       "      <td>2.36</td>\n",
       "      <td>2.17</td>\n",
       "    </tr>\n",
       "    <tr>\n",
       "      <th>2</th>\n",
       "      <td>2</td>\n",
       "      <td>PS</td>\n",
       "      <td>2016</td>\n",
       "      <td>On pump v off pump CABG, CABG, severe left ven...</td>\n",
       "      <td>0.69</td>\n",
       "      <td>0.24</td>\n",
       "      <td>2.00</td>\n",
       "      <td>1.76</td>\n",
       "    </tr>\n",
       "    <tr>\n",
       "      <th>4</th>\n",
       "      <td>4</td>\n",
       "      <td>PS</td>\n",
       "      <td>2016</td>\n",
       "      <td>Off pump v on pump CABG, CABG, non-elective</td>\n",
       "      <td>0.83</td>\n",
       "      <td>0.36</td>\n",
       "      <td>1.99</td>\n",
       "      <td>1.63</td>\n",
       "    </tr>\n",
       "    <tr>\n",
       "      <th>5</th>\n",
       "      <td>5</td>\n",
       "      <td>RCT</td>\n",
       "      <td>2017</td>\n",
       "      <td>Off pump v on pump CABG, CABG, non-elective</td>\n",
       "      <td>0.19</td>\n",
       "      <td>0.02</td>\n",
       "      <td>1.71</td>\n",
       "      <td>1.69</td>\n",
       "    </tr>\n",
       "    <tr>\n",
       "      <th>6</th>\n",
       "      <td>6</td>\n",
       "      <td>PS</td>\n",
       "      <td>2016</td>\n",
       "      <td>Hemodialysis v peritoneal dialysis, Renal repl...</td>\n",
       "      <td>0.86</td>\n",
       "      <td>0.70</td>\n",
       "      <td>1.06</td>\n",
       "      <td>0.36</td>\n",
       "    </tr>\n",
       "  </tbody>\n",
       "</table>\n",
       "</div>"
      ],
      "text/plain": [
       "  study_id study_type  year  \\\n",
       "0        0         PS  2016   \n",
       "1        1        RCT  2017   \n",
       "2        2         PS  2016   \n",
       "4        4         PS  2016   \n",
       "5        5        RCT  2017   \n",
       "6        6         PS  2016   \n",
       "\n",
       "                                    clinical_setting  estimate  lower_ci  \\\n",
       "0  Preincision prophylactic intra-aortic balloon ...      0.91      0.74   \n",
       "1  Preincision prophylactic intra-aortic balloon ...      0.67      0.19   \n",
       "2  On pump v off pump CABG, CABG, severe left ven...      0.69      0.24   \n",
       "4        Off pump v on pump CABG, CABG, non-elective      0.83      0.36   \n",
       "5        Off pump v on pump CABG, CABG, non-elective      0.19      0.02   \n",
       "6  Hemodialysis v peritoneal dialysis, Renal repl...      0.86      0.70   \n",
       "\n",
       "   upper_ci  ci_diff  \n",
       "0      1.15     0.41  \n",
       "1      2.36     2.17  \n",
       "2      2.00     1.76  \n",
       "4      1.99     1.63  \n",
       "5      1.71     1.69  \n",
       "6      1.06     0.36  "
      ]
     },
     "execution_count": 10,
     "metadata": {},
     "output_type": "execute_result"
    }
   ],
   "source": [
    "# examine the first PS (study id 5)\n",
    "sel_psm_leak.head(6)"
   ]
  },
  {
   "cell_type": "markdown",
   "metadata": {},
   "source": [
    "# Relationship between RCT and PS estimates: regression"
   ]
  },
  {
   "cell_type": "markdown",
   "metadata": {},
   "source": [
    "We'll analyze the effect estimates in log space."
   ]
  },
  {
   "cell_type": "code",
   "execution_count": 12,
   "metadata": {},
   "outputs": [],
   "source": [
    "pair_df['rct_est'] = np.log(pair_df['rct_est'])\n",
    "pair_df['ps_est'] = np.log(pair_df['ps_est'])"
   ]
  },
  {
   "cell_type": "markdown",
   "metadata": {},
   "source": [
    "For the initial analysis, we discard PS-RCT pairs that were published in the same year.\n",
    "\n",
    "**TODO**: further data collection could take a look at the specific studies cited\n",
    "and their specific month/day publication date for more granularity."
   ]
  },
  {
   "cell_type": "code",
   "execution_count": 13,
   "metadata": {},
   "outputs": [],
   "source": [
    "no_zero_pairs = pair_df[pair_df['year_diff'] != 0].copy()"
   ]
  },
  {
   "cell_type": "code",
   "execution_count": 14,
   "metadata": {},
   "outputs": [],
   "source": [
    "# indicator function for the PS study coming *after* the RCT\n",
    "no_zero_pairs['ps_after'] = (no_zero_pairs['year_diff'] > 0).astype(int)"
   ]
  },
  {
   "cell_type": "code",
   "execution_count": 15,
   "metadata": {},
   "outputs": [],
   "source": [
    "# helper function for regression results\n",
    "def get_reg_results(data, name, x, y='rct_est'):\n",
    "    sel_cols = ['names', 'coef', 'se', 'pval', 'CI[2.5%]', 'CI[97.5%]']\n",
    "    # we want the second entry, for the x coefficient results\n",
    "    reg_results = pg.linear_regression(data[x], data[y], add_intercept=True).loc[1, sel_cols]\n",
    "    reg_results = reg_results.to_frame().transpose()\n",
    "    reg_results.index = [name]\n",
    "    return reg_results\n",
    "\n",
    "#get_reg_results(no_zero_pairs[no_zero_pairs['ps_after'] == 0], 'test', x='ps_est')"
   ]
  },
  {
   "cell_type": "code",
   "execution_count": 19,
   "metadata": {},
   "outputs": [
    {
     "data": {
      "application/vnd.jupyter.widget-view+json": {
       "model_id": "2590fb641ad14d73a6e1d3c303dfc9ac",
       "version_major": 2,
       "version_minor": 0
      },
      "text/plain": [
       "interactive(children=(Dropdown(description='group_col', options=('study_id', 'clinical_setting'), value='study…"
      ]
     },
     "metadata": {},
     "output_type": "display_data"
    }
   ],
   "source": [
    "group_col = 'study_id'\n",
    "\n",
    "@interact(\n",
    "    group_col = ['study_id', 'clinical_setting']\n",
    ")\n",
    "def show_reg(group_col):\n",
    "    fig, (ax1,ax2) = plt.subplots(1, 2, dpi=125, figsize=(10,4))\n",
    "\n",
    "#     sns.scatterplot(data=no_zero_pairs, x='ps_est', y='rct_est', hue='ps_after', ax=ax1)\n",
    "#     sns.regplot(data=no_zero_pairs[no_zero_pairs['ps_after'] == 0], x='ps_est', y='rct_est', color='blue', ax=ax1)\n",
    "#     sns.regplot(data=no_zero_pairs[no_zero_pairs['ps_after'] == 1], x='ps_est', y='rct_est', color='orange', ax=ax1)\n",
    "#     ax1.set_title(\"outlier clipped, individual pairs\")\n",
    "#     ax1.set_xlabel(\"log PS study effect estimate\")\n",
    "#     ax1.set_ylabel(\"log RCT study effect estimate\")\n",
    "#     ax1.set_ylim(-1.25, 0.75)\n",
    "\n",
    "    #grouped = no_zero_pairs.sort_values(by=[group_col, 'rct_ci_diff'], ascending=True).groupby(['ps_after', group_col], as_index=False)[['ps_est', 'rct_est']].head()\n",
    "    grouped = no_zero_pairs.groupby(['ps_after', group_col], as_index=False)[['ps_est', 'rct_est']].mean()\n",
    "    print(f\"{no_zero_pairs.shape[0]} individual pairs\")\n",
    "    print(f\"{grouped.shape[0]} grouped pairs\")\n",
    "    \n",
    "    \n",
    "    sns.scatterplot(data=grouped, x='ps_est', y='rct_est', hue='ps_after', ax=ax2)\n",
    "    sns.regplot(data=grouped[grouped['ps_after'] == 0], x='ps_est', y='rct_est', color='blue', ax=ax2)\n",
    "    sns.regplot(data=grouped[grouped['ps_after'] == 1], x='ps_est', y='rct_est', color='orange', ax=ax2)\n",
    "    ax2.set_title(f\"outlier clipped, grouped by {group_col}\")\n",
    "    ax2.set_xlabel(\"log PS study effect estimate\")\n",
    "    ax2.set_ylabel(\"log RCT study effect estimate\")\n",
    "    ax2.set_ylim(-1.25, 0.75)\n",
    "\n",
    "    # show regression results\n",
    "    name_dict = {\n",
    "        'individual pairs, before': no_zero_pairs[no_zero_pairs['ps_after'] == 0],\n",
    "        'individual pairs, after': no_zero_pairs[no_zero_pairs['ps_after'] == 1],\n",
    "        'grouped pairs, before': grouped[grouped['ps_after'] == 0],\n",
    "        'grouped pairs, after': grouped[grouped['ps_after'] == 1],\n",
    "    }\n",
    "\n",
    "    reg_df = pd.DataFrame()\n",
    "    for name, data in name_dict.items():\n",
    "        if data.shape[0] > 0:\n",
    "            df = get_reg_results(data, name, x='ps_est', y='rct_est')\n",
    "            reg_df = reg_df.append(df)\n",
    "\n",
    "    display(reg_df)"
   ]
  }
 ],
 "metadata": {
  "hide_input": false,
  "interpreter": {
   "hash": "c5e384680b37c811d5c050863cd2e1b7b7fb22fa41e6ef4def208bf90ddd8ddd"
  },
  "kernelspec": {
   "display_name": "Python 3",
   "language": "python",
   "name": "python3"
  },
  "language_info": {
   "codemirror_mode": {
    "name": "ipython",
    "version": 3
   },
   "file_extension": ".py",
   "mimetype": "text/x-python",
   "name": "python",
   "nbconvert_exporter": "python",
   "pygments_lexer": "ipython3",
   "version": "3.7.7"
  },
  "varInspector": {
   "cols": {
    "lenName": 16,
    "lenType": 16,
    "lenVar": 40
   },
   "kernels_config": {
    "python": {
     "delete_cmd_postfix": "",
     "delete_cmd_prefix": "del ",
     "library": "var_list.py",
     "varRefreshCmd": "print(var_dic_list())"
    },
    "r": {
     "delete_cmd_postfix": ") ",
     "delete_cmd_prefix": "rm(",
     "library": "var_list.r",
     "varRefreshCmd": "cat(var_dic_list()) "
    }
   },
   "types_to_exclude": [
    "module",
    "function",
    "builtin_function_or_method",
    "instance",
    "_Feature"
   ],
   "window_display": false
  }
 },
 "nbformat": 4,
 "nbformat_minor": 2
}
