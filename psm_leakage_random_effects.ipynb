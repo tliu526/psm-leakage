{
 "cells": [
  {
   "cell_type": "markdown",
   "metadata": {},
   "source": [
    "# Description"
   ]
  },
  {
   "cell_type": "markdown",
   "metadata": {},
   "source": [
    "Initial EDA for potential propensity score matching leakage, now accounting for random effects meta analysis for a given RCT study."
   ]
  },
  {
   "cell_type": "code",
   "execution_count": 20,
   "metadata": {},
   "outputs": [
    {
     "data": {
      "text/html": [
       "<script>\n",
       "code_show=true; \n",
       "function code_toggle() {\n",
       " if (code_show){\n",
       " $('div.input').hide();\n",
       " } else {\n",
       " $('div.input').show();\n",
       " }\n",
       " code_show = !code_show\n",
       "} \n",
       "$( document ).ready(code_toggle);\n",
       "</script>\n",
       "<form action=\"javascript:code_toggle()\"><input type=\"submit\" value=\"Click here to toggle on/off the raw code.\"></form>"
      ],
      "text/plain": [
       "<IPython.core.display.HTML object>"
      ]
     },
     "execution_count": 20,
     "metadata": {},
     "output_type": "execute_result"
    }
   ],
   "source": [
    "# source: https://stackoverflow.com/a/28073228\n",
    "from IPython.display import HTML\n",
    "\n",
    "HTML('''<script>\n",
    "code_show=true; \n",
    "function code_toggle() {\n",
    " if (code_show){\n",
    " $('div.input').hide();\n",
    " } else {\n",
    " $('div.input').show();\n",
    " }\n",
    " code_show = !code_show\n",
    "} \n",
    "$( document ).ready(code_toggle);\n",
    "</script>\n",
    "<form action=\"javascript:code_toggle()\"><input type=\"submit\" value=\"Click here to toggle on/off the raw code.\"></form>''')"
   ]
  },
  {
   "cell_type": "markdown",
   "metadata": {},
   "source": [
    "# Imports"
   ]
  },
  {
   "cell_type": "code",
   "execution_count": 21,
   "metadata": {},
   "outputs": [
    {
     "name": "stdout",
     "output_type": "stream",
     "text": [
      "The autoreload extension is already loaded. To reload it, use:\n",
      "  %reload_ext autoreload\n"
     ]
    }
   ],
   "source": [
    "import numpy as np\n",
    "import pandas as pd\n",
    "import scipy\n",
    "import seaborn as sns\n",
    "import matplotlib.pyplot as plt\n",
    "import pingouin as pg\n",
    "import ipywidgets as widgets\n",
    "import warnings\n",
    "\n",
    "from ipywidgets import interact, interact_manual\n",
    "from statsmodels.stats.meta_analysis import combine_effects\n",
    "\n",
    "%matplotlib inline\n",
    "%load_ext autoreload\n",
    "%autoreload 2"
   ]
  },
  {
   "cell_type": "code",
   "execution_count": 22,
   "metadata": {},
   "outputs": [],
   "source": [
    "# user imports\n",
    "\n",
    "from utils import compute_study_pairs"
   ]
  },
  {
   "cell_type": "markdown",
   "metadata": {},
   "source": [
    "# Load data"
   ]
  },
  {
   "cell_type": "code",
   "execution_count": 23,
   "metadata": {},
   "outputs": [],
   "source": [
    "# sheet_name=None loads all sheets as a dict\n",
    "psm_leak_dict = pd.read_excel(\"data/psm_leakage.xlsx\", sheet_name=None, engine='openpyxl')"
   ]
  },
  {
   "cell_type": "code",
   "execution_count": 24,
   "metadata": {},
   "outputs": [],
   "source": [
    "meta_studies = list(psm_leak_dict.keys())\n",
    "\n",
    "psm_leak = pd.DataFrame()\n",
    "for study, df in psm_leak_dict.items():\n",
    "    df['meta_study'] = study\n",
    "    psm_leak = psm_leak.append(df)\n",
    "    \n",
    "psm_leak = psm_leak.reset_index()"
   ]
  },
  {
   "cell_type": "code",
   "execution_count": 25,
   "metadata": {},
   "outputs": [],
   "source": [
    "psm_leak = psm_leak.drop('index', axis='columns')"
   ]
  },
  {
   "cell_type": "code",
   "execution_count": 26,
   "metadata": {},
   "outputs": [],
   "source": [
    "# restrict to kitsios2015 and hemkens2016 for now\n",
    "#psm_leak = psm_leak[psm_leak['meta_study'].isin([\"kitsios2015\", \"hemkens2016\"])]"
   ]
  },
  {
   "cell_type": "code",
   "execution_count": 27,
   "metadata": {},
   "outputs": [],
   "source": [
    "# need to drop the old indices as they aren't numbered consecutively\n",
    "psm_leak = psm_leak.reset_index(drop=True).reset_index()"
   ]
  },
  {
   "cell_type": "code",
   "execution_count": 28,
   "metadata": {},
   "outputs": [],
   "source": [
    "psm_leak = psm_leak.rename({\"index\": \"study_id\"}, axis=\"columns\")\n",
    "psm_leak['study_id'] = psm_leak['study_id'].astype(str)\n",
    "psm_leak.head()\n",
    "psm_leak['ci_diff'] = psm_leak['upper_ci'] - psm_leak['lower_ci']"
   ]
  },
  {
   "cell_type": "code",
   "execution_count": 29,
   "metadata": {},
   "outputs": [
    {
     "data": {
      "text/plain": [
       "RCT    104\n",
       "PS      56\n",
       "Name: study_type, dtype: int64"
      ]
     },
     "execution_count": 29,
     "metadata": {},
     "output_type": "execute_result"
    }
   ],
   "source": [
    "psm_leak['study_type'].value_counts()"
   ]
  },
  {
   "cell_type": "code",
   "execution_count": 30,
   "metadata": {},
   "outputs": [
    {
     "data": {
      "text/html": [
       "<div>\n",
       "<style scoped>\n",
       "    .dataframe tbody tr th:only-of-type {\n",
       "        vertical-align: middle;\n",
       "    }\n",
       "\n",
       "    .dataframe tbody tr th {\n",
       "        vertical-align: top;\n",
       "    }\n",
       "\n",
       "    .dataframe thead th {\n",
       "        text-align: right;\n",
       "    }\n",
       "</style>\n",
       "<table border=\"1\" class=\"dataframe\">\n",
       "  <thead>\n",
       "    <tr style=\"text-align: right;\">\n",
       "      <th></th>\n",
       "      <th>study_id</th>\n",
       "      <th>study_type</th>\n",
       "      <th>year</th>\n",
       "      <th>clinical_setting</th>\n",
       "      <th>estimate</th>\n",
       "      <th>lower_ci</th>\n",
       "      <th>upper_ci</th>\n",
       "      <th>meta_study</th>\n",
       "      <th>month</th>\n",
       "      <th>note</th>\n",
       "      <th>area</th>\n",
       "      <th>ci_diff</th>\n",
       "    </tr>\n",
       "  </thead>\n",
       "  <tbody>\n",
       "    <tr>\n",
       "      <th>150</th>\n",
       "      <td>150</td>\n",
       "      <td>PS</td>\n",
       "      <td>2016</td>\n",
       "      <td>Clopidogrel treatment duration 3 month v &gt;3 mo...</td>\n",
       "      <td>0.20</td>\n",
       "      <td>0.00</td>\n",
       "      <td>1.300</td>\n",
       "      <td>hemkens2016</td>\n",
       "      <td>NaT</td>\n",
       "      <td>NaN</td>\n",
       "      <td>NaN</td>\n",
       "      <td>1.300</td>\n",
       "    </tr>\n",
       "    <tr>\n",
       "      <th>151</th>\n",
       "      <td>151</td>\n",
       "      <td>RCT</td>\n",
       "      <td>2017</td>\n",
       "      <td>Clopidogrel treatment duration 3 month v &gt;3 mo...</td>\n",
       "      <td>0.91</td>\n",
       "      <td>0.61</td>\n",
       "      <td>1.350</td>\n",
       "      <td>hemkens2016</td>\n",
       "      <td>NaT</td>\n",
       "      <td>NaN</td>\n",
       "      <td>NaN</td>\n",
       "      <td>0.740</td>\n",
       "    </tr>\n",
       "    <tr>\n",
       "      <th>152</th>\n",
       "      <td>152</td>\n",
       "      <td>PS</td>\n",
       "      <td>2016</td>\n",
       "      <td>Very early angiography (within 6h) v early con...</td>\n",
       "      <td>0.89</td>\n",
       "      <td>0.69</td>\n",
       "      <td>1.170</td>\n",
       "      <td>hemkens2016</td>\n",
       "      <td>NaT</td>\n",
       "      <td>NaN</td>\n",
       "      <td>NaN</td>\n",
       "      <td>0.480</td>\n",
       "    </tr>\n",
       "    <tr>\n",
       "      <th>153</th>\n",
       "      <td>153</td>\n",
       "      <td>RCT</td>\n",
       "      <td>2017</td>\n",
       "      <td>Very early angiography (within 6h) v early con...</td>\n",
       "      <td>0.85</td>\n",
       "      <td>0.40</td>\n",
       "      <td>1.840</td>\n",
       "      <td>hemkens2016</td>\n",
       "      <td>NaT</td>\n",
       "      <td>NaN</td>\n",
       "      <td>NaN</td>\n",
       "      <td>1.440</td>\n",
       "    </tr>\n",
       "    <tr>\n",
       "      <th>154</th>\n",
       "      <td>154</td>\n",
       "      <td>PS</td>\n",
       "      <td>2016</td>\n",
       "      <td>Beta blocker continuation v beta blocker withd...</td>\n",
       "      <td>0.42</td>\n",
       "      <td>0.21</td>\n",
       "      <td>0.857</td>\n",
       "      <td>hemkens2016</td>\n",
       "      <td>NaT</td>\n",
       "      <td>NaN</td>\n",
       "      <td>NaN</td>\n",
       "      <td>0.647</td>\n",
       "    </tr>\n",
       "    <tr>\n",
       "      <th>155</th>\n",
       "      <td>155</td>\n",
       "      <td>RCT</td>\n",
       "      <td>2017</td>\n",
       "      <td>Beta blocker continuation v beta blocker withd...</td>\n",
       "      <td>0.99</td>\n",
       "      <td>0.34</td>\n",
       "      <td>2.880</td>\n",
       "      <td>hemkens2016</td>\n",
       "      <td>NaT</td>\n",
       "      <td>NaN</td>\n",
       "      <td>NaN</td>\n",
       "      <td>2.540</td>\n",
       "    </tr>\n",
       "    <tr>\n",
       "      <th>156</th>\n",
       "      <td>156</td>\n",
       "      <td>PS</td>\n",
       "      <td>2016</td>\n",
       "      <td>Surgical removal of the primary tumor v no sur...</td>\n",
       "      <td>0.64</td>\n",
       "      <td>0.59</td>\n",
       "      <td>0.680</td>\n",
       "      <td>hemkens2016</td>\n",
       "      <td>NaT</td>\n",
       "      <td>NaN</td>\n",
       "      <td>NaN</td>\n",
       "      <td>0.090</td>\n",
       "    </tr>\n",
       "    <tr>\n",
       "      <th>157</th>\n",
       "      <td>157</td>\n",
       "      <td>RCT</td>\n",
       "      <td>2017</td>\n",
       "      <td>Surgical removal of the primary tumor v no sur...</td>\n",
       "      <td>0.92</td>\n",
       "      <td>0.56</td>\n",
       "      <td>1.530</td>\n",
       "      <td>hemkens2016</td>\n",
       "      <td>NaT</td>\n",
       "      <td>NaN</td>\n",
       "      <td>NaN</td>\n",
       "      <td>0.970</td>\n",
       "    </tr>\n",
       "    <tr>\n",
       "      <th>158</th>\n",
       "      <td>158</td>\n",
       "      <td>PS</td>\n",
       "      <td>2016</td>\n",
       "      <td>CABG v drug eluting stent, Unprotected, left m...</td>\n",
       "      <td>0.74</td>\n",
       "      <td>0.16</td>\n",
       "      <td>3.420</td>\n",
       "      <td>hemkens2016</td>\n",
       "      <td>NaT</td>\n",
       "      <td>NaN</td>\n",
       "      <td>NaN</td>\n",
       "      <td>3.260</td>\n",
       "    </tr>\n",
       "    <tr>\n",
       "      <th>159</th>\n",
       "      <td>159</td>\n",
       "      <td>RCT</td>\n",
       "      <td>2017</td>\n",
       "      <td>CABG v drug eluting stent, Unprotected, left m...</td>\n",
       "      <td>1.23</td>\n",
       "      <td>0.70</td>\n",
       "      <td>2.170</td>\n",
       "      <td>hemkens2016</td>\n",
       "      <td>NaT</td>\n",
       "      <td>NaN</td>\n",
       "      <td>NaN</td>\n",
       "      <td>1.470</td>\n",
       "    </tr>\n",
       "  </tbody>\n",
       "</table>\n",
       "</div>"
      ],
      "text/plain": [
       "    study_id study_type  year  \\\n",
       "150      150         PS  2016   \n",
       "151      151        RCT  2017   \n",
       "152      152         PS  2016   \n",
       "153      153        RCT  2017   \n",
       "154      154         PS  2016   \n",
       "155      155        RCT  2017   \n",
       "156      156         PS  2016   \n",
       "157      157        RCT  2017   \n",
       "158      158         PS  2016   \n",
       "159      159        RCT  2017   \n",
       "\n",
       "                                      clinical_setting  estimate  lower_ci  \\\n",
       "150  Clopidogrel treatment duration 3 month v >3 mo...      0.20      0.00   \n",
       "151  Clopidogrel treatment duration 3 month v >3 mo...      0.91      0.61   \n",
       "152  Very early angiography (within 6h) v early con...      0.89      0.69   \n",
       "153  Very early angiography (within 6h) v early con...      0.85      0.40   \n",
       "154  Beta blocker continuation v beta blocker withd...      0.42      0.21   \n",
       "155  Beta blocker continuation v beta blocker withd...      0.99      0.34   \n",
       "156  Surgical removal of the primary tumor v no sur...      0.64      0.59   \n",
       "157  Surgical removal of the primary tumor v no sur...      0.92      0.56   \n",
       "158  CABG v drug eluting stent, Unprotected, left m...      0.74      0.16   \n",
       "159  CABG v drug eluting stent, Unprotected, left m...      1.23      0.70   \n",
       "\n",
       "     upper_ci   meta_study month note area  ci_diff  \n",
       "150     1.300  hemkens2016   NaT  NaN  NaN    1.300  \n",
       "151     1.350  hemkens2016   NaT  NaN  NaN    0.740  \n",
       "152     1.170  hemkens2016   NaT  NaN  NaN    0.480  \n",
       "153     1.840  hemkens2016   NaT  NaN  NaN    1.440  \n",
       "154     0.857  hemkens2016   NaT  NaN  NaN    0.647  \n",
       "155     2.880  hemkens2016   NaT  NaN  NaN    2.540  \n",
       "156     0.680  hemkens2016   NaT  NaN  NaN    0.090  \n",
       "157     1.530  hemkens2016   NaT  NaN  NaN    0.970  \n",
       "158     3.420  hemkens2016   NaT  NaN  NaN    3.260  \n",
       "159     2.170  hemkens2016   NaT  NaN  NaN    1.470  "
      ]
     },
     "execution_count": 30,
     "metadata": {},
     "output_type": "execute_result"
    }
   ],
   "source": [
    "psm_leak.tail(10)"
   ]
  },
  {
   "cell_type": "code",
   "execution_count": 31,
   "metadata": {},
   "outputs": [],
   "source": [
    "def compute_rr_log_var(estimate, upper_ci):\n",
    "    \"\"\"Uses closed form solution to compute sample variance of relative risk\"\"\"\n",
    "    z_95 = scipy.stats.norm.ppf(0.975, 0, 1)\n",
    "    \n",
    "    log_se = (np.log(upper_ci) - np.log(estimate)) / z_95\n",
    "    \n",
    "    return log_se ** 2"
   ]
  },
  {
   "cell_type": "code",
   "execution_count": 139,
   "metadata": {},
   "outputs": [],
   "source": [
    "def get_random_eff_est(group_df):\n",
    "    \"\"\"Computes random effect rct point estimate of group_df\"\"\"\n",
    "    group_df = group_df.copy()\n",
    "    #display(group_df.dtypes)\n",
    "    #display(group_df)\n",
    "    group_df['rct_log_var'] = group_df.apply(lambda row: compute_rr_log_var(row['rct_est'], row['rct_upper_ci']), axis=1)\n",
    "    group_df['ps_log_var'] = group_df.apply(lambda row: compute_rr_log_var(row['ps_est'], row['ps_upper_ci']), axis=1)\n",
    "    \n",
    "    #display(group_df)\n",
    "    #display(group_df.shape)\n",
    "    #print(group_df['rct_est'].dtype)\n",
    "    \n",
    "    with warnings.catch_warnings():\n",
    "        warnings.simplefilter(\"ignore\")\n",
    "        #display(group_df)\n",
    "        #print(group_df.shape)\n",
    "        rct_df = group_df.drop_duplicates(subset=['rct_study_id']).copy()\n",
    "        #display(rct_df)\n",
    "        #print(rct_df.shape)\n",
    "        #print()\n",
    "        rct_results = combine_effects(np.log(np.array(rct_df['rct_est'].astype(float))), \n",
    "                                      rct_df['rct_log_var'])\n",
    "\n",
    "        rct_est = rct_results.summary_frame().loc['random effect', 'eff']\n",
    "        rct_sd = rct_results.summary_frame().loc['random effect', 'sd_eff']\n",
    "        \n",
    "        \n",
    "        ps_df = group_df.drop_duplicates(subset=['ps_study_id']).copy()\n",
    "        ps_results = combine_effects(np.log(np.array(ps_df['ps_est'].astype(float))), \n",
    "                                     ps_df['ps_log_var'])\n",
    "\n",
    "        ps_est = ps_results.summary_frame().loc['random effect', 'eff']\n",
    "        ps_sd = ps_results.summary_frame().loc['random effect', 'sd_eff']\n",
    "    \n",
    "    # need to re-exponentiate to get RRs back\n",
    "    return pd.DataFrame.from_dict({\n",
    "        \"ps_est\": [np.exp(ps_est)],\n",
    "        \"rct_est\": [np.exp(rct_est)],\n",
    "        \"ps_var\": [np.exp(ps_sd ** 2)],\n",
    "        \"rct_var\": [np.exp(rct_sd ** 2)],\n",
    "    })\n",
    "    \n",
    "    "
   ]
  },
  {
   "cell_type": "markdown",
   "metadata": {},
   "source": [
    "# Clip studies with large CIs"
   ]
  },
  {
   "cell_type": "markdown",
   "metadata": {},
   "source": [
    "During a live coding session, Konrad and I examined the confidence intervals\n",
    "and decided to remove studies with large intervals -- the choice of 3 as the cutoff\n",
    "was arbitrary based on visual inspection and more formal analysis will need a more formal method for outlier\n",
    "removal (e.g. 2-3 SDs)."
   ]
  },
  {
   "cell_type": "code",
   "execution_count": 128,
   "metadata": {},
   "outputs": [
    {
     "data": {
      "text/plain": [
       "count    154.000000\n",
       "mean       1.967123\n",
       "std        3.335260\n",
       "min        0.090000\n",
       "25%        0.492500\n",
       "50%        0.945000\n",
       "75%        1.867500\n",
       "max       31.320000\n",
       "Name: ci_diff, dtype: float64"
      ]
     },
     "execution_count": 128,
     "metadata": {},
     "output_type": "execute_result"
    }
   ],
   "source": [
    "psm_leak['ci_diff'].describe()"
   ]
  },
  {
   "cell_type": "code",
   "execution_count": 129,
   "metadata": {},
   "outputs": [
    {
     "data": {
      "image/png": "[encoded data removed]",
      "text/plain": [
       "<Figure size 1200x600 with 2 Axes>"
      ]
     },
     "metadata": {},
     "output_type": "display_data"
    }
   ],
   "source": [
    "fig, (ax1, ax2) = plt.subplots(1, 2, dpi=150, figsize=(8,4))\n",
    "rct = psm_leak[psm_leak['study_type'] == 'RCT']\n",
    "ps = psm_leak[psm_leak['study_type'] == 'PS']\n",
    "\n",
    "sns.scatterplot(data=rct, x='estimate', y='ci_diff', ax=ax1)\n",
    "ax1.set_ylim(0, 8)\n",
    "ax1.set_xlabel(\"rct estimates\")\n",
    "ax1.set_ylabel(\"CI length\")\n",
    "ax1.axhline(y=3, ls='--', color='red', label='cutoff')\n",
    "ax1.legend()\n",
    "\n",
    "sns.scatterplot(data=ps, x='estimate', y='ci_diff', ax=ax2)\n",
    "ax2.set_ylim(0, 8)\n",
    "ax2.set_ylabel(\"\")\n",
    "ax2.axhline(y=3, ls='--', color='red', label='cutoff')\n",
    "ax2.set_xlabel(\"ps estimates\");\n",
    "fig.patch.set_facecolor(\"white\")\n"
   ]
  },
  {
   "cell_type": "code",
   "execution_count": 130,
   "metadata": {},
   "outputs": [],
   "source": [
    "#sel_psm_leak = psm_leak[psm_leak['ci_diff'] < 3]\n",
    "sel_psm_leak = psm_leak.copy()"
   ]
  },
  {
   "cell_type": "markdown",
   "metadata": {},
   "source": [
    "# Compute pairwise differences\n",
    "\n",
    "For each PS study within a clinical setting, we pair it with an RCT and compute\n",
    "the year difference between each pair.\n",
    "\n",
    "**NB**: since this is a one-to-many mapping *per PS study*, there will be \n",
    "repeated measurements of both PS and RCT studies. More formal analysis will need\n",
    "to account for this group structure."
   ]
  },
  {
   "cell_type": "code",
   "execution_count": 131,
   "metadata": {},
   "outputs": [],
   "source": [
    "pair_df = compute_study_pairs(sel_psm_leak)"
   ]
  },
  {
   "cell_type": "markdown",
   "metadata": {},
   "source": [
    "# Relationship between RCT and PS estimates: regression"
   ]
  },
  {
   "cell_type": "markdown",
   "metadata": {},
   "source": [
    "For the initial analysis, we discard PS-RCT pairs that were published in the same year.\n",
    "\n",
    "**TODO**: further data collection could take a look at the specific studies cited\n",
    "and their specific month/day publication date for more granularity."
   ]
  },
  {
   "cell_type": "code",
   "execution_count": 132,
   "metadata": {},
   "outputs": [],
   "source": [
    "no_zero_pairs = pair_df[pair_df['year_diff'] != 0].copy()"
   ]
  },
  {
   "cell_type": "code",
   "execution_count": 133,
   "metadata": {
    "scrolled": true
   },
   "outputs": [],
   "source": [
    "no_zero_pairs = no_zero_pairs[~no_zero_pairs[['rct_est', 'ps_est']].isna().any(axis=1)]"
   ]
  },
  {
   "cell_type": "code",
   "execution_count": 134,
   "metadata": {},
   "outputs": [],
   "source": [
    "# indicator function for the PS study coming *after* the RCT\n",
    "no_zero_pairs['ps_after'] = (no_zero_pairs['year_diff'] > 0).astype(int)"
   ]
  },
  {
   "cell_type": "code",
   "execution_count": 170,
   "metadata": {},
   "outputs": [],
   "source": [
    "# helper function for regression results\n",
    "def get_reg_results(data, name, x, y='rct_est', inv_var_weight=False):\n",
    "    sel_cols = ['names', 'coef', 'se', 'pval', 'CI[2.5%]', 'CI[97.5%]']\n",
    "    if inv_var_weight:\n",
    "        weights = 1 / data['rct_var']\n",
    "        \n",
    "        # we want the second entry, for the x coefficient results\n",
    "        reg_results = pg.linear_regression(data[x], data[y], add_intercept=True, remove_na=True, weights=weights).loc[1, sel_cols]\n",
    "        reg_dict = pg.linear_regression(data[x], data[y], add_intercept=True, remove_na=True, weights=weights, as_dataframe=False)\n",
    "    else:\n",
    "        reg_results = pg.linear_regression(data[x], data[y], add_intercept=True, remove_na=True).loc[1, sel_cols]\n",
    "        reg_dict = pg.linear_regression(data[x], data[y], add_intercept=True, remove_na=True, as_dataframe=False)\n",
    "    #display(reg_results)\n",
    "    reg_df = reg_results.to_frame().transpose()\n",
    "    reg_df.index = [name]\n",
    "    return reg_df, reg_dict\n",
    "\n",
    "#get_reg_results(no_zero_pairs[no_zero_pairs['ps_after'] == 0], 'test', x='ps_est')"
   ]
  },
  {
   "cell_type": "code",
   "execution_count": 171,
   "metadata": {
    "scrolled": true
   },
   "outputs": [
    {
     "data": {
      "text/plain": [
       "rct_ci_diff    31.32\n",
       "ps_ci_diff      4.06\n",
       "dtype: float64"
      ]
     },
     "execution_count": 171,
     "metadata": {},
     "output_type": "execute_result"
    }
   ],
   "source": [
    "no_zero_pairs[['rct_ci_diff', 'ps_ci_diff']].max()"
   ]
  },
  {
   "cell_type": "code",
   "execution_count": 175,
   "metadata": {
    "scrolled": false
   },
   "outputs": [
    {
     "data": {
      "application/vnd.jupyter.widget-view+json": {
       "model_id": "32444392ce914c6db68779fac6a06680",
       "version_major": 2,
       "version_minor": 0
      },
      "text/plain": [
       "interactive(children=(Dropdown(description='group_col', options=('ps_study_id', 'clinical_setting'), value='ps…"
      ]
     },
     "metadata": {},
     "output_type": "display_data"
    }
   ],
   "source": [
    "group_col = 'ps_study_id'\n",
    "\n",
    "@interact_manual(\n",
    "    group_col=['ps_study_id', 'clinical_setting'],\n",
    "    #group_method=['mean', 'random_effects'],\n",
    "    ci_diff=widgets.FloatSlider(\n",
    "        value=3,\n",
    "        min=1,\n",
    "        max=33.0,\n",
    "        step=1,\n",
    "    ),\n",
    "    plot_group=[\n",
    "        'before',\n",
    "        'after',\n",
    "        'both'\n",
    "    ]\n",
    "#     meta_studies=widgets.SelectMultiple(\n",
    "#         options=[None] + meta_studies,\n",
    "#         value=[None],\n",
    "#     )\n",
    ")\n",
    "def show_reg(group_col, #group_method, \n",
    "             ci_diff, \n",
    "             log_transform=False, \n",
    "             inv_var_weight=False,\n",
    "             se_crosshairs=True,\n",
    "             show_reg=True,\n",
    "             plot_group='both'):\n",
    "    group_method = 'random_effects'\n",
    "    meta_studies = [None]\n",
    "    \n",
    "    fig, ax = plt.subplots(dpi=125, figsize=(10,4))\n",
    "    \n",
    "    if None in list(meta_studies):\n",
    "        sel_pairs = no_zero_pairs.copy()\n",
    "    else:\n",
    "        sel_pairs = no_zero_pairs[no_zero_pairs['meta_study'].isin(list(meta_studies))].copy()\n",
    "\n",
    "    sel_pairs = sel_pairs[(sel_pairs['rct_ci_diff'] < ci_diff) & (sel_pairs['ps_ci_diff'] < ci_diff)]\n",
    "\n",
    "        \n",
    "    #grouped = sel_pairs.sort_values(by=[group_col, 'rct_ci_diff'], ascending=True).groupby(['ps_after', group_col], as_index=False)[['ps_est', 'rct_est']].head()\n",
    "    \n",
    "    if group_method == \"random_effects\":\n",
    "        grouped = sel_pairs.groupby(['ps_after', group_col])[['ps_study_id', 'rct_study_id', 'rct_est', 'ps_est', 'ps_upper_ci', 'rct_upper_ci']].apply(get_random_eff_est)\n",
    "        grouped = grouped.reset_index()\n",
    "    \n",
    "    elif group_method == 'mean':\n",
    "        grouped = sel_pairs.groupby(['ps_after', group_col], as_index=False)[['ps_est', 'rct_est']].mean()\n",
    "\n",
    "    print(\"{0} grouped pairs: {1} PS before, {2} PS after\".format(grouped.shape[0],\n",
    "                                                            grouped[grouped['ps_after'] == 0].shape[0], \n",
    "                                                            grouped[grouped['ps_after'] == 1].shape[0]))\n",
    "    \n",
    "    if log_transform:\n",
    "        grouped['rct_est'] = np.log(grouped['rct_est'])\n",
    "        grouped['ps_est'] = np.log(grouped['ps_est'])\n",
    "        grouped['rct_var'] = np.log(grouped['rct_var'])\n",
    "        grouped['ps_var'] = np.log(grouped['ps_var'])\n",
    "    \n",
    "    if se_crosshairs:\n",
    "        \n",
    "        before_xerr = np.sqrt(grouped[grouped['ps_after'] == 0]['ps_var'])\n",
    "        before_yerr = np.sqrt(grouped[grouped['ps_after'] == 0]['rct_var'])\n",
    "        after_xerr = np.sqrt(grouped[grouped['ps_after'] == 1]['ps_var'])\n",
    "        after_yerr = np.sqrt(grouped[grouped['ps_after'] == 1]['rct_var'])\n",
    "\n",
    "        \n",
    "        if not log_transform:\n",
    "            before_xerr = np.exp(before_xerr)\n",
    "            before_yerr = np.exp(before_yerr)\n",
    "            after_xerr = np.exp(after_xerr)\n",
    "            after_yerr = np.exp(after_yerr)\n",
    "            \n",
    "        if (plot_group == 'before') or (plot_group == 'both'):\n",
    "            ax.errorbar(x=grouped[grouped['ps_after'] == 0]['ps_est'],\n",
    "                        y=grouped[grouped['ps_after'] == 0]['rct_est'],\n",
    "                        xerr=before_xerr,\n",
    "                        yerr=before_yerr,\n",
    "                        ls='none',\n",
    "                        color='blue',\n",
    "                        #marker='o',\n",
    "                        alpha=0.2)\n",
    "            \n",
    "            ax.scatter(x=grouped[grouped['ps_after'] == 0]['ps_est'],\n",
    "                       y=grouped[grouped['ps_after'] == 0]['rct_est'],\n",
    "                       color='blue',\n",
    "                       s=0.5 * (1 / before_yerr)\n",
    "                      )\n",
    "        if (plot_group == 'after') or (plot_group == 'both'):\n",
    "            ax.errorbar(x=grouped[grouped['ps_after'] == 1]['ps_est'],\n",
    "                 y=grouped[grouped['ps_after'] == 1]['rct_est'],\n",
    "                 xerr=after_xerr,\n",
    "                 yerr=after_yerr,\n",
    "                 ls='none',\n",
    "                 color='orange',\n",
    "                 #marker='o',\n",
    "                 alpha=0.2)\n",
    "            \n",
    "            ax.scatter(x=grouped[grouped['ps_after'] == 1]['ps_est'],\n",
    "                       y=grouped[grouped['ps_after'] == 1]['rct_est'],\n",
    "                       color='orange',\n",
    "                       s=5.0 * (1 / after_yerr)\n",
    "                      )\n",
    "    else:\n",
    "        sns.scatterplot(data=grouped, x='ps_est', y='rct_est', hue='ps_after', ax=ax)\n",
    "        \n",
    "    if show_reg:# and not inv_var_weight:\n",
    "        if (plot_group == 'before') or (plot_group == 'both'):\n",
    "            sns.regplot(data=grouped[grouped['ps_after'] == 0], x='ps_est', y='rct_est', color='blue', ax=ax, scatter=False)\n",
    "        if (plot_group == 'after') or (plot_group == 'both'):\n",
    "            sns.regplot(data=grouped[grouped['ps_after'] == 1], x='ps_est', y='rct_est', color='orange', ax=ax, scatter=False)\n",
    "    ax.set_title(f\"outlier clipped, grouped by {group_col}, method: {group_method}\")\n",
    "    ax.set_xlabel(\"PS study effect estimate\")\n",
    "    ax.set_ylabel(\"RCT study effect estimate\")\n",
    "    \n",
    "    \n",
    "    x0, x1 = ax.get_xlim()\n",
    "    y0, y1 = ax.get_ylim()\n",
    "    ax.set_aspect((x1-x0)/(y1-y0))\n",
    "    ax.axhline(y=(y1 + y0)/2, ls='--', color='gray')\n",
    "    ax.plot(np.linspace(x0, x1, 50), np.linspace(y0, y1, 50), ls='--', color='gray')\n",
    "    \n",
    "    ax.set_ylim(y0, y1)\n",
    "    ax.set_xlim(x0, x1)\n",
    "    \n",
    "    #ax1.set_box_aspect(1)\n",
    "    ax.set_box_aspect(1)\n",
    "\n",
    "    # show regression results\n",
    "    name_dict = {\n",
    "        #'individual pairs, before': sel_pairs[sel_pairs['ps_after'] == 0],\n",
    "        #'individual pairs, after': sel_pairs[sel_pairs['ps_after'] == 1],\n",
    "        'grouped pairs, before': grouped[grouped['ps_after'] == 0].copy(),\n",
    "        'grouped pairs, after': grouped[grouped['ps_after'] == 1].copy(),\n",
    "    }\n",
    "\n",
    "    reg_df = pd.DataFrame()\n",
    "    models = {}\n",
    "    for name, data in name_dict.items():\n",
    "        df, model = get_reg_results(data, name, x='ps_est', y='rct_est', inv_var_weight=inv_var_weight)\n",
    "        reg_df = reg_df.append(df)\n",
    "        models[name] = model\n",
    "        \n",
    "    if show_reg and inv_var_weight:\n",
    "        x0, x1 = ax.get_xlim()\n",
    "        if (plot_group == 'before') or (plot_group == 'both'):\n",
    "            model = models['grouped pairs, before']\n",
    "            X = np.arange(x0, x1, 0.01)\n",
    "            y = (model['coef'][1] * X) + (model['coef'][0])\n",
    "            ax.plot(X, y, color=\"blue\", alpha=0.8, ls='--', label=\"weighted regression, before\")\n",
    "        if (plot_group == 'after') or (plot_group == 'both'):\n",
    "            model = models['grouped pairs, after']            \n",
    "            X = np.arange(x0, x1, 0.01)\n",
    "            y = (model['coef'][1] * X) + (model['coef'][0])\n",
    "            ax.plot(X, y, color=\"orange\", ls='--', alpha=0.8, label=\"weighted regression, after\")\n",
    "            #ax.plot(sorted(model['X']), sorted(model['pred']), color=\"orange\")\n",
    "\n",
    "        ax.legend()\n",
    "    display(reg_df)"
   ]
  },
  {
   "cell_type": "markdown",
   "metadata": {},
   "source": [
    "After grouping (averaging within pairs) either by individual PS study or by clinical setting,\n",
    "we see a significant positive relationship between the RCT effect estimate and the PS effect\n",
    "estimate if the PS study came after the RCT, while no significant relationship between\n",
    "the effects if the PS study came before the RCT."
   ]
  },
  {
   "cell_type": "markdown",
   "metadata": {},
   "source": [
    "# Random effects sandbox"
   ]
  },
  {
   "cell_type": "code",
   "execution_count": 253,
   "metadata": {},
   "outputs": [
    {
     "data": {
      "text/html": [
       "<div>\n",
       "<style scoped>\n",
       "    .dataframe tbody tr th:only-of-type {\n",
       "        vertical-align: middle;\n",
       "    }\n",
       "\n",
       "    .dataframe tbody tr th {\n",
       "        vertical-align: top;\n",
       "    }\n",
       "\n",
       "    .dataframe thead th {\n",
       "        text-align: right;\n",
       "    }\n",
       "</style>\n",
       "<table border=\"1\" class=\"dataframe\">\n",
       "  <thead>\n",
       "    <tr style=\"text-align: right;\">\n",
       "      <th></th>\n",
       "      <th>ps_est</th>\n",
       "      <th>rct_est</th>\n",
       "    </tr>\n",
       "  </thead>\n",
       "  <tbody>\n",
       "    <tr>\n",
       "      <th>0</th>\n",
       "      <td>-0.210721</td>\n",
       "      <td>-0.653926</td>\n",
       "    </tr>\n",
       "  </tbody>\n",
       "</table>\n",
       "</div>"
      ],
      "text/plain": [
       "     ps_est   rct_est\n",
       "0 -0.210721 -0.653926"
      ]
     },
     "execution_count": 253,
     "metadata": {},
     "output_type": "execute_result"
    }
   ],
   "source": [
    "get_random_eff_est(pair_df.iloc[0, :].to_frame().transpose())"
   ]
  },
  {
   "cell_type": "code",
   "execution_count": 254,
   "metadata": {
    "scrolled": false
   },
   "outputs": [
    {
     "data": {
      "text/html": [
       "<div>\n",
       "<style scoped>\n",
       "    .dataframe tbody tr th:only-of-type {\n",
       "        vertical-align: middle;\n",
       "    }\n",
       "\n",
       "    .dataframe tbody tr th {\n",
       "        vertical-align: top;\n",
       "    }\n",
       "\n",
       "    .dataframe thead th {\n",
       "        text-align: right;\n",
       "    }\n",
       "</style>\n",
       "<table border=\"1\" class=\"dataframe\">\n",
       "  <thead>\n",
       "    <tr style=\"text-align: right;\">\n",
       "      <th></th>\n",
       "      <th>ps_after</th>\n",
       "      <th>study_id</th>\n",
       "      <th>level_2</th>\n",
       "      <th>ps_est</th>\n",
       "      <th>rct_est</th>\n",
       "    </tr>\n",
       "  </thead>\n",
       "  <tbody>\n",
       "    <tr>\n",
       "      <th>0</th>\n",
       "      <td>0</td>\n",
       "      <td>101</td>\n",
       "      <td>0</td>\n",
       "      <td>-0.210721</td>\n",
       "      <td>-0.653926</td>\n",
       "    </tr>\n",
       "    <tr>\n",
       "      <th>1</th>\n",
       "      <td>0</td>\n",
       "      <td>103</td>\n",
       "      <td>0</td>\n",
       "      <td>-0.462035</td>\n",
       "      <td>-0.478036</td>\n",
       "    </tr>\n",
       "    <tr>\n",
       "      <th>2</th>\n",
       "      <td>0</td>\n",
       "      <td>105</td>\n",
       "      <td>0</td>\n",
       "      <td>-0.653926</td>\n",
       "      <td>0.058269</td>\n",
       "    </tr>\n",
       "    <tr>\n",
       "      <th>3</th>\n",
       "      <td>0</td>\n",
       "      <td>107</td>\n",
       "      <td>0</td>\n",
       "      <td>-0.798508</td>\n",
       "      <td>-0.174353</td>\n",
       "    </tr>\n",
       "    <tr>\n",
       "      <th>4</th>\n",
       "      <td>0</td>\n",
       "      <td>109</td>\n",
       "      <td>0</td>\n",
       "      <td>-0.693147</td>\n",
       "      <td>-0.597837</td>\n",
       "    </tr>\n",
       "    <tr>\n",
       "      <th>5</th>\n",
       "      <td>0</td>\n",
       "      <td>111</td>\n",
       "      <td>0</td>\n",
       "      <td>-1.609438</td>\n",
       "      <td>-0.094311</td>\n",
       "    </tr>\n",
       "    <tr>\n",
       "      <th>6</th>\n",
       "      <td>0</td>\n",
       "      <td>113</td>\n",
       "      <td>0</td>\n",
       "      <td>-0.116534</td>\n",
       "      <td>-0.162519</td>\n",
       "    </tr>\n",
       "    <tr>\n",
       "      <th>7</th>\n",
       "      <td>0</td>\n",
       "      <td>115</td>\n",
       "      <td>0</td>\n",
       "      <td>-0.867501</td>\n",
       "      <td>-0.010050</td>\n",
       "    </tr>\n",
       "    <tr>\n",
       "      <th>8</th>\n",
       "      <td>0</td>\n",
       "      <td>117</td>\n",
       "      <td>0</td>\n",
       "      <td>-0.446287</td>\n",
       "      <td>-0.083382</td>\n",
       "    </tr>\n",
       "    <tr>\n",
       "      <th>9</th>\n",
       "      <td>0</td>\n",
       "      <td>119</td>\n",
       "      <td>0</td>\n",
       "      <td>-0.301105</td>\n",
       "      <td>0.207014</td>\n",
       "    </tr>\n",
       "    <tr>\n",
       "      <th>10</th>\n",
       "      <td>0</td>\n",
       "      <td>21</td>\n",
       "      <td>0</td>\n",
       "      <td>0.565314</td>\n",
       "      <td>0.087988</td>\n",
       "    </tr>\n",
       "    <tr>\n",
       "      <th>11</th>\n",
       "      <td>0</td>\n",
       "      <td>30</td>\n",
       "      <td>0</td>\n",
       "      <td>0.518794</td>\n",
       "      <td>0.231112</td>\n",
       "    </tr>\n",
       "    <tr>\n",
       "      <th>12</th>\n",
       "      <td>0</td>\n",
       "      <td>40</td>\n",
       "      <td>0</td>\n",
       "      <td>-0.020203</td>\n",
       "      <td>-0.527633</td>\n",
       "    </tr>\n",
       "    <tr>\n",
       "      <th>13</th>\n",
       "      <td>0</td>\n",
       "      <td>5</td>\n",
       "      <td>0</td>\n",
       "      <td>-0.328504</td>\n",
       "      <td>0.104244</td>\n",
       "    </tr>\n",
       "    <tr>\n",
       "      <th>14</th>\n",
       "      <td>0</td>\n",
       "      <td>6</td>\n",
       "      <td>0</td>\n",
       "      <td>-0.527633</td>\n",
       "      <td>0.104244</td>\n",
       "    </tr>\n",
       "    <tr>\n",
       "      <th>15</th>\n",
       "      <td>0</td>\n",
       "      <td>65</td>\n",
       "      <td>0</td>\n",
       "      <td>0.019803</td>\n",
       "      <td>-0.132834</td>\n",
       "    </tr>\n",
       "    <tr>\n",
       "      <th>16</th>\n",
       "      <td>0</td>\n",
       "      <td>7</td>\n",
       "      <td>0</td>\n",
       "      <td>-0.072571</td>\n",
       "      <td>0.104244</td>\n",
       "    </tr>\n",
       "    <tr>\n",
       "      <th>17</th>\n",
       "      <td>0</td>\n",
       "      <td>73</td>\n",
       "      <td>0</td>\n",
       "      <td>-0.994252</td>\n",
       "      <td>-0.507478</td>\n",
       "    </tr>\n",
       "    <tr>\n",
       "      <th>18</th>\n",
       "      <td>0</td>\n",
       "      <td>8</td>\n",
       "      <td>0</td>\n",
       "      <td>-0.139262</td>\n",
       "      <td>0.086178</td>\n",
       "    </tr>\n",
       "    <tr>\n",
       "      <th>19</th>\n",
       "      <td>0</td>\n",
       "      <td>85</td>\n",
       "      <td>0</td>\n",
       "      <td>0.207014</td>\n",
       "      <td>0.029083</td>\n",
       "    </tr>\n",
       "    <tr>\n",
       "      <th>20</th>\n",
       "      <td>0</td>\n",
       "      <td>86</td>\n",
       "      <td>0</td>\n",
       "      <td>0.076961</td>\n",
       "      <td>0.029083</td>\n",
       "    </tr>\n",
       "    <tr>\n",
       "      <th>21</th>\n",
       "      <td>0</td>\n",
       "      <td>87</td>\n",
       "      <td>0</td>\n",
       "      <td>0.019803</td>\n",
       "      <td>0.068583</td>\n",
       "    </tr>\n",
       "    <tr>\n",
       "      <th>22</th>\n",
       "      <td>0</td>\n",
       "      <td>88</td>\n",
       "      <td>0</td>\n",
       "      <td>-0.040822</td>\n",
       "      <td>0.048790</td>\n",
       "    </tr>\n",
       "    <tr>\n",
       "      <th>23</th>\n",
       "      <td>0</td>\n",
       "      <td>89</td>\n",
       "      <td>0</td>\n",
       "      <td>-0.094311</td>\n",
       "      <td>-0.400478</td>\n",
       "    </tr>\n",
       "    <tr>\n",
       "      <th>24</th>\n",
       "      <td>0</td>\n",
       "      <td>91</td>\n",
       "      <td>0</td>\n",
       "      <td>-0.371064</td>\n",
       "      <td>0.900161</td>\n",
       "    </tr>\n",
       "    <tr>\n",
       "      <th>25</th>\n",
       "      <td>0</td>\n",
       "      <td>93</td>\n",
       "      <td>0</td>\n",
       "      <td>-0.186330</td>\n",
       "      <td>-1.660731</td>\n",
       "    </tr>\n",
       "    <tr>\n",
       "      <th>26</th>\n",
       "      <td>0</td>\n",
       "      <td>95</td>\n",
       "      <td>0</td>\n",
       "      <td>-0.150823</td>\n",
       "      <td>0.451076</td>\n",
       "    </tr>\n",
       "    <tr>\n",
       "      <th>27</th>\n",
       "      <td>0</td>\n",
       "      <td>97</td>\n",
       "      <td>0</td>\n",
       "      <td>-0.430783</td>\n",
       "      <td>-0.673345</td>\n",
       "    </tr>\n",
       "    <tr>\n",
       "      <th>28</th>\n",
       "      <td>0</td>\n",
       "      <td>99</td>\n",
       "      <td>0</td>\n",
       "      <td>-0.544727</td>\n",
       "      <td>0.104360</td>\n",
       "    </tr>\n",
       "    <tr>\n",
       "      <th>29</th>\n",
       "      <td>1</td>\n",
       "      <td>21</td>\n",
       "      <td>0</td>\n",
       "      <td>0.565314</td>\n",
       "      <td>-0.273007</td>\n",
       "    </tr>\n",
       "    <tr>\n",
       "      <th>30</th>\n",
       "      <td>1</td>\n",
       "      <td>27</td>\n",
       "      <td>0</td>\n",
       "      <td>1.026042</td>\n",
       "      <td>0.056972</td>\n",
       "    </tr>\n",
       "    <tr>\n",
       "      <th>31</th>\n",
       "      <td>1</td>\n",
       "      <td>30</td>\n",
       "      <td>0</td>\n",
       "      <td>0.518794</td>\n",
       "      <td>0.741937</td>\n",
       "    </tr>\n",
       "    <tr>\n",
       "      <th>32</th>\n",
       "      <td>1</td>\n",
       "      <td>31</td>\n",
       "      <td>0</td>\n",
       "      <td>0.198851</td>\n",
       "      <td>0.741937</td>\n",
       "    </tr>\n",
       "    <tr>\n",
       "      <th>33</th>\n",
       "      <td>1</td>\n",
       "      <td>34</td>\n",
       "      <td>0</td>\n",
       "      <td>-0.223144</td>\n",
       "      <td>-0.748386</td>\n",
       "    </tr>\n",
       "    <tr>\n",
       "      <th>34</th>\n",
       "      <td>1</td>\n",
       "      <td>36</td>\n",
       "      <td>0</td>\n",
       "      <td>-0.400478</td>\n",
       "      <td>-0.301105</td>\n",
       "    </tr>\n",
       "    <tr>\n",
       "      <th>35</th>\n",
       "      <td>1</td>\n",
       "      <td>42</td>\n",
       "      <td>0</td>\n",
       "      <td>0.009950</td>\n",
       "      <td>0.000000</td>\n",
       "    </tr>\n",
       "    <tr>\n",
       "      <th>36</th>\n",
       "      <td>1</td>\n",
       "      <td>45</td>\n",
       "      <td>0</td>\n",
       "      <td>-0.371064</td>\n",
       "      <td>-0.047195</td>\n",
       "    </tr>\n",
       "    <tr>\n",
       "      <th>37</th>\n",
       "      <td>1</td>\n",
       "      <td>5</td>\n",
       "      <td>0</td>\n",
       "      <td>-0.328504</td>\n",
       "      <td>-0.144965</td>\n",
       "    </tr>\n",
       "    <tr>\n",
       "      <th>38</th>\n",
       "      <td>1</td>\n",
       "      <td>56</td>\n",
       "      <td>0</td>\n",
       "      <td>0.039221</td>\n",
       "      <td>-0.149032</td>\n",
       "    </tr>\n",
       "    <tr>\n",
       "      <th>39</th>\n",
       "      <td>1</td>\n",
       "      <td>57</td>\n",
       "      <td>0</td>\n",
       "      <td>-0.527633</td>\n",
       "      <td>-0.127793</td>\n",
       "    </tr>\n",
       "    <tr>\n",
       "      <th>40</th>\n",
       "      <td>1</td>\n",
       "      <td>6</td>\n",
       "      <td>0</td>\n",
       "      <td>-0.527633</td>\n",
       "      <td>-0.144965</td>\n",
       "    </tr>\n",
       "    <tr>\n",
       "      <th>41</th>\n",
       "      <td>1</td>\n",
       "      <td>68</td>\n",
       "      <td>0</td>\n",
       "      <td>-0.755023</td>\n",
       "      <td>0.045690</td>\n",
       "    </tr>\n",
       "    <tr>\n",
       "      <th>42</th>\n",
       "      <td>1</td>\n",
       "      <td>7</td>\n",
       "      <td>0</td>\n",
       "      <td>-0.072571</td>\n",
       "      <td>-0.144965</td>\n",
       "    </tr>\n",
       "    <tr>\n",
       "      <th>43</th>\n",
       "      <td>1</td>\n",
       "      <td>73</td>\n",
       "      <td>0</td>\n",
       "      <td>-0.994252</td>\n",
       "      <td>-0.820981</td>\n",
       "    </tr>\n",
       "    <tr>\n",
       "      <th>44</th>\n",
       "      <td>1</td>\n",
       "      <td>77</td>\n",
       "      <td>0</td>\n",
       "      <td>0.357674</td>\n",
       "      <td>0.314811</td>\n",
       "    </tr>\n",
       "    <tr>\n",
       "      <th>45</th>\n",
       "      <td>1</td>\n",
       "      <td>78</td>\n",
       "      <td>0</td>\n",
       "      <td>0.000000</td>\n",
       "      <td>0.314811</td>\n",
       "    </tr>\n",
       "    <tr>\n",
       "      <th>46</th>\n",
       "      <td>1</td>\n",
       "      <td>8</td>\n",
       "      <td>0</td>\n",
       "      <td>-0.139262</td>\n",
       "      <td>-0.097716</td>\n",
       "    </tr>\n",
       "    <tr>\n",
       "      <th>47</th>\n",
       "      <td>1</td>\n",
       "      <td>80</td>\n",
       "      <td>0</td>\n",
       "      <td>-0.030459</td>\n",
       "      <td>0.223144</td>\n",
       "    </tr>\n",
       "    <tr>\n",
       "      <th>48</th>\n",
       "      <td>1</td>\n",
       "      <td>87</td>\n",
       "      <td>0</td>\n",
       "      <td>0.019803</td>\n",
       "      <td>0.009950</td>\n",
       "    </tr>\n",
       "    <tr>\n",
       "      <th>49</th>\n",
       "      <td>1</td>\n",
       "      <td>88</td>\n",
       "      <td>0</td>\n",
       "      <td>-0.040822</td>\n",
       "      <td>-0.045576</td>\n",
       "    </tr>\n",
       "  </tbody>\n",
       "</table>\n",
       "</div>"
      ],
      "text/plain": [
       "    ps_after study_id  level_2    ps_est   rct_est\n",
       "0          0      101        0 -0.210721 -0.653926\n",
       "1          0      103        0 -0.462035 -0.478036\n",
       "2          0      105        0 -0.653926  0.058269\n",
       "3          0      107        0 -0.798508 -0.174353\n",
       "4          0      109        0 -0.693147 -0.597837\n",
       "5          0      111        0 -1.609438 -0.094311\n",
       "6          0      113        0 -0.116534 -0.162519\n",
       "7          0      115        0 -0.867501 -0.010050\n",
       "8          0      117        0 -0.446287 -0.083382\n",
       "9          0      119        0 -0.301105  0.207014\n",
       "10         0       21        0  0.565314  0.087988\n",
       "11         0       30        0  0.518794  0.231112\n",
       "12         0       40        0 -0.020203 -0.527633\n",
       "13         0        5        0 -0.328504  0.104244\n",
       "14         0        6        0 -0.527633  0.104244\n",
       "15         0       65        0  0.019803 -0.132834\n",
       "16         0        7        0 -0.072571  0.104244\n",
       "17         0       73        0 -0.994252 -0.507478\n",
       "18         0        8        0 -0.139262  0.086178\n",
       "19         0       85        0  0.207014  0.029083\n",
       "20         0       86        0  0.076961  0.029083\n",
       "21         0       87        0  0.019803  0.068583\n",
       "22         0       88        0 -0.040822  0.048790\n",
       "23         0       89        0 -0.094311 -0.400478\n",
       "24         0       91        0 -0.371064  0.900161\n",
       "25         0       93        0 -0.186330 -1.660731\n",
       "26         0       95        0 -0.150823  0.451076\n",
       "27         0       97        0 -0.430783 -0.673345\n",
       "28         0       99        0 -0.544727  0.104360\n",
       "29         1       21        0  0.565314 -0.273007\n",
       "30         1       27        0  1.026042  0.056972\n",
       "31         1       30        0  0.518794  0.741937\n",
       "32         1       31        0  0.198851  0.741937\n",
       "33         1       34        0 -0.223144 -0.748386\n",
       "34         1       36        0 -0.400478 -0.301105\n",
       "35         1       42        0  0.009950  0.000000\n",
       "36         1       45        0 -0.371064 -0.047195\n",
       "37         1        5        0 -0.328504 -0.144965\n",
       "38         1       56        0  0.039221 -0.149032\n",
       "39         1       57        0 -0.527633 -0.127793\n",
       "40         1        6        0 -0.527633 -0.144965\n",
       "41         1       68        0 -0.755023  0.045690\n",
       "42         1        7        0 -0.072571 -0.144965\n",
       "43         1       73        0 -0.994252 -0.820981\n",
       "44         1       77        0  0.357674  0.314811\n",
       "45         1       78        0  0.000000  0.314811\n",
       "46         1        8        0 -0.139262 -0.097716\n",
       "47         1       80        0 -0.030459  0.223144\n",
       "48         1       87        0  0.019803  0.009950\n",
       "49         1       88        0 -0.040822 -0.045576"
      ]
     },
     "execution_count": 254,
     "metadata": {},
     "output_type": "execute_result"
    }
   ],
   "source": [
    "results = no_zero_pairs.groupby([\"ps_after\", \"study_id\"])[['rct_est', 'ps_est', 'ps_upper_ci', 'rct_upper_ci']].apply(get_random_eff_est)\n",
    "results.reset_index()"
   ]
  },
  {
   "cell_type": "code",
   "execution_count": 223,
   "metadata": {},
   "outputs": [
    {
     "data": {
      "text/plain": [
       "1.5249888523152892"
      ]
     },
     "execution_count": 223,
     "metadata": {},
     "output_type": "execute_result"
    }
   ],
   "source": [
    "compute_rr_log_var(0.52, 5.85)"
   ]
  },
  {
   "cell_type": "code",
   "execution_count": 96,
   "metadata": {},
   "outputs": [
    {
     "data": {
      "text/plain": [
       "0.6581753594328036"
      ]
     },
     "execution_count": 96,
     "metadata": {},
     "output_type": "execute_result"
    }
   ],
   "source": [
    "(1.91 - 0.62) / z_95"
   ]
  },
  {
   "cell_type": "code",
   "execution_count": 97,
   "metadata": {},
   "outputs": [
    {
     "data": {
      "text/plain": [
       "0.21428965190835467"
      ]
     },
     "execution_count": 97,
     "metadata": {},
     "output_type": "execute_result"
    }
   ],
   "source": [
    "(0.62 - 0.2) / z_95"
   ]
  },
  {
   "cell_type": "code",
   "execution_count": 100,
   "metadata": {},
   "outputs": [
    {
     "data": {
      "text/plain": [
       "0.04807226878073125"
      ]
     },
     "execution_count": 100,
     "metadata": {},
     "output_type": "execute_result"
    }
   ],
   "source": [
    "compute_rr_log_var(0.95, 1.46)"
   ]
  },
  {
   "cell_type": "code",
   "execution_count": 111,
   "metadata": {
    "scrolled": true
   },
   "outputs": [
    {
     "data": {
      "text/html": [
       "<div>\n",
       "<style scoped>\n",
       "    .dataframe tbody tr th:only-of-type {\n",
       "        vertical-align: middle;\n",
       "    }\n",
       "\n",
       "    .dataframe tbody tr th {\n",
       "        vertical-align: top;\n",
       "    }\n",
       "\n",
       "    .dataframe thead th {\n",
       "        text-align: right;\n",
       "    }\n",
       "</style>\n",
       "<table border=\"1\" class=\"dataframe\">\n",
       "  <thead>\n",
       "    <tr style=\"text-align: right;\">\n",
       "      <th></th>\n",
       "      <th>eff</th>\n",
       "      <th>sd_eff</th>\n",
       "      <th>ci_low</th>\n",
       "      <th>ci_upp</th>\n",
       "      <th>w_fe</th>\n",
       "      <th>w_re</th>\n",
       "    </tr>\n",
       "  </thead>\n",
       "  <tbody>\n",
       "    <tr>\n",
       "      <th>0</th>\n",
       "      <td>-0.478036</td>\n",
       "      <td>0.573585</td>\n",
       "      <td>-1.602242</td>\n",
       "      <td>0.646171</td>\n",
       "      <td>0.127552</td>\n",
       "      <td>0.127552</td>\n",
       "    </tr>\n",
       "    <tr>\n",
       "      <th>1</th>\n",
       "      <td>-0.051293</td>\n",
       "      <td>0.219317</td>\n",
       "      <td>-0.481147</td>\n",
       "      <td>0.378560</td>\n",
       "      <td>0.872448</td>\n",
       "      <td>0.872448</td>\n",
       "    </tr>\n",
       "    <tr>\n",
       "      <th>fixed effect</th>\n",
       "      <td>-0.105725</td>\n",
       "      <td>0.204853</td>\n",
       "      <td>-0.507230</td>\n",
       "      <td>0.295779</td>\n",
       "      <td>1.000000</td>\n",
       "      <td>NaN</td>\n",
       "    </tr>\n",
       "    <tr>\n",
       "      <th>random effect</th>\n",
       "      <td>-0.105725</td>\n",
       "      <td>0.204853</td>\n",
       "      <td>-0.507230</td>\n",
       "      <td>0.295779</td>\n",
       "      <td>NaN</td>\n",
       "      <td>1.000000</td>\n",
       "    </tr>\n",
       "    <tr>\n",
       "      <th>fixed effect wls</th>\n",
       "      <td>-0.105725</td>\n",
       "      <td>0.142357</td>\n",
       "      <td>-0.384741</td>\n",
       "      <td>0.173290</td>\n",
       "      <td>1.000000</td>\n",
       "      <td>NaN</td>\n",
       "    </tr>\n",
       "    <tr>\n",
       "      <th>random effect wls</th>\n",
       "      <td>-0.105725</td>\n",
       "      <td>0.142357</td>\n",
       "      <td>-0.384741</td>\n",
       "      <td>0.173290</td>\n",
       "      <td>NaN</td>\n",
       "      <td>1.000000</td>\n",
       "    </tr>\n",
       "  </tbody>\n",
       "</table>\n",
       "</div>"
      ],
      "text/plain": [
       "                        eff    sd_eff    ci_low    ci_upp      w_fe      w_re\n",
       "0                 -0.478036  0.573585 -1.602242  0.646171  0.127552  0.127552\n",
       "1                 -0.051293  0.219317 -0.481147  0.378560  0.872448  0.872448\n",
       "fixed effect      -0.105725  0.204853 -0.507230  0.295779  1.000000       NaN\n",
       "random effect     -0.105725  0.204853 -0.507230  0.295779       NaN  1.000000\n",
       "fixed effect wls  -0.105725  0.142357 -0.384741  0.173290  1.000000       NaN\n",
       "random effect wls -0.105725  0.142357 -0.384741  0.173290       NaN  1.000000"
      ]
     },
     "metadata": {},
     "output_type": "display_data"
    },
    {
     "data": {
      "text/plain": [
       "-0.10572531391901997"
      ]
     },
     "execution_count": 111,
     "metadata": {},
     "output_type": "execute_result"
    }
   ],
   "source": [
    "res = combine_effects(np.array([np.log(0.62), np.log(0.95)]), \n",
    "                      np.array([.329, .0481]),\n",
    "                      )\n",
    "display(res.summary_frame())\n",
    "res.summary_frame().loc['random effect', 'eff']"
   ]
  },
  {
   "cell_type": "code",
   "execution_count": 115,
   "metadata": {},
   "outputs": [
    {
     "data": {
      "text/plain": [
       "-0.507108"
      ]
     },
     "execution_count": 115,
     "metadata": {},
     "output_type": "execute_result"
    }
   ],
   "source": [
    "-0.1057 - 0.2048 * 1.96"
   ]
  },
  {
   "cell_type": "code",
   "execution_count": 110,
   "metadata": {
    "scrolled": true
   },
   "outputs": [
    {
     "data": {
      "text/html": [
       "<div>\n",
       "<style scoped>\n",
       "    .dataframe tbody tr th:only-of-type {\n",
       "        vertical-align: middle;\n",
       "    }\n",
       "\n",
       "    .dataframe tbody tr th {\n",
       "        vertical-align: top;\n",
       "    }\n",
       "\n",
       "    .dataframe thead th {\n",
       "        text-align: right;\n",
       "    }\n",
       "</style>\n",
       "<table border=\"1\" class=\"dataframe\">\n",
       "  <thead>\n",
       "    <tr style=\"text-align: right;\">\n",
       "      <th></th>\n",
       "      <th>eff</th>\n",
       "      <th>sd_eff</th>\n",
       "      <th>ci_low</th>\n",
       "      <th>ci_upp</th>\n",
       "      <th>w_fe</th>\n",
       "      <th>w_re</th>\n",
       "    </tr>\n",
       "  </thead>\n",
       "  <tbody>\n",
       "    <tr>\n",
       "      <th>0</th>\n",
       "      <td>-0.478036</td>\n",
       "      <td>0.565685</td>\n",
       "      <td>-1.586759</td>\n",
       "      <td>0.630687</td>\n",
       "      <td>0.333333</td>\n",
       "      <td>0.333333</td>\n",
       "    </tr>\n",
       "    <tr>\n",
       "      <th>1</th>\n",
       "      <td>-0.478036</td>\n",
       "      <td>0.565685</td>\n",
       "      <td>-1.586759</td>\n",
       "      <td>0.630687</td>\n",
       "      <td>0.333333</td>\n",
       "      <td>0.333333</td>\n",
       "    </tr>\n",
       "    <tr>\n",
       "      <th>2</th>\n",
       "      <td>-0.478036</td>\n",
       "      <td>0.565685</td>\n",
       "      <td>-1.586759</td>\n",
       "      <td>0.630687</td>\n",
       "      <td>0.333333</td>\n",
       "      <td>0.333333</td>\n",
       "    </tr>\n",
       "    <tr>\n",
       "      <th>fixed effect</th>\n",
       "      <td>-0.478036</td>\n",
       "      <td>0.326599</td>\n",
       "      <td>-1.118157</td>\n",
       "      <td>0.162086</td>\n",
       "      <td>1.000000</td>\n",
       "      <td>NaN</td>\n",
       "    </tr>\n",
       "    <tr>\n",
       "      <th>random effect</th>\n",
       "      <td>-0.478036</td>\n",
       "      <td>0.326599</td>\n",
       "      <td>-1.118157</td>\n",
       "      <td>0.162086</td>\n",
       "      <td>NaN</td>\n",
       "      <td>1.000000</td>\n",
       "    </tr>\n",
       "    <tr>\n",
       "      <th>fixed effect wls</th>\n",
       "      <td>-0.478036</td>\n",
       "      <td>0.000000</td>\n",
       "      <td>-0.478036</td>\n",
       "      <td>-0.478036</td>\n",
       "      <td>1.000000</td>\n",
       "      <td>NaN</td>\n",
       "    </tr>\n",
       "    <tr>\n",
       "      <th>random effect wls</th>\n",
       "      <td>-0.478036</td>\n",
       "      <td>0.000000</td>\n",
       "      <td>-0.478036</td>\n",
       "      <td>-0.478036</td>\n",
       "      <td>NaN</td>\n",
       "      <td>1.000000</td>\n",
       "    </tr>\n",
       "  </tbody>\n",
       "</table>\n",
       "</div>"
      ],
      "text/plain": [
       "                        eff    sd_eff    ci_low    ci_upp      w_fe      w_re\n",
       "0                 -0.478036  0.565685 -1.586759  0.630687  0.333333  0.333333\n",
       "1                 -0.478036  0.565685 -1.586759  0.630687  0.333333  0.333333\n",
       "2                 -0.478036  0.565685 -1.586759  0.630687  0.333333  0.333333\n",
       "fixed effect      -0.478036  0.326599 -1.118157  0.162086  1.000000       NaN\n",
       "random effect     -0.478036  0.326599 -1.118157  0.162086       NaN  1.000000\n",
       "fixed effect wls  -0.478036  0.000000 -0.478036 -0.478036  1.000000       NaN\n",
       "random effect wls -0.478036  0.000000 -0.478036 -0.478036       NaN  1.000000"
      ]
     },
     "metadata": {},
     "output_type": "display_data"
    },
    {
     "data": {
      "text/plain": [
       "-0.4780358009429998"
      ]
     },
     "execution_count": 110,
     "metadata": {},
     "output_type": "execute_result"
    }
   ],
   "source": [
    "res = combine_effects(np.array([np.log(0.62), np.log(0.62), np.log(0.62)]), \n",
    "                      np.array([0.32, 0.32, 0.32]),\n",
    "                      )\n",
    "\n",
    "display(res.summary_frame())\n",
    "res.summary_frame().loc['random effect', 'eff']"
   ]
  },
  {
   "cell_type": "code",
   "execution_count": 7,
   "metadata": {},
   "outputs": [
    {
     "data": {
      "text/plain": [
       "1.9216751214214762"
      ]
     },
     "execution_count": 7,
     "metadata": {},
     "output_type": "execute_result"
    }
   ],
   "source": [
    "np.exp(res.summary_frame().loc['random effect', 'sd_eff']) ** 2"
   ]
  },
  {
   "cell_type": "code",
   "execution_count": 145,
   "metadata": {
    "scrolled": true
   },
   "outputs": [
    {
     "data": {
      "text/plain": [
       "0.620022196981994"
      ]
     },
     "execution_count": 145,
     "metadata": {},
     "output_type": "execute_result"
    }
   ],
   "source": [
    "np.exp(-0.4780)"
   ]
  },
  {
   "cell_type": "code",
   "execution_count": 110,
   "metadata": {},
   "outputs": [
    {
     "data": {
      "text/plain": [
       "0.6021612574654619"
      ]
     },
     "execution_count": 110,
     "metadata": {},
     "output_type": "execute_result"
    }
   ],
   "source": [
    "np.exp(-.507230)"
   ]
  },
  {
   "cell_type": "code",
   "execution_count": 108,
   "metadata": {},
   "outputs": [
    {
     "data": {
      "text/plain": [
       "0.8996720238667572"
      ]
     },
     "execution_count": 108,
     "metadata": {},
     "output_type": "execute_result"
    }
   ],
   "source": [
    "np.exp(-0.105725)"
   ]
  },
  {
   "cell_type": "code",
   "execution_count": 68,
   "metadata": {},
   "outputs": [],
   "source": [
    "import scipy\n",
    "\n",
    "z_95 = scipy.stats.norm.ppf(0.975, 0, 1)"
   ]
  },
  {
   "cell_type": "code",
   "execution_count": 70,
   "metadata": {},
   "outputs": [
    {
     "data": {
      "text/plain": [
       "0.2689651683622103"
      ]
     },
     "execution_count": 70,
     "metadata": {},
     "output_type": "execute_result"
    }
   ],
   "source": [
    "(np.log(1.44) - np.log(0.85)) / z_95"
   ]
  },
  {
   "cell_type": "code",
   "execution_count": 71,
   "metadata": {},
   "outputs": [
    {
     "data": {
      "text/plain": [
       "0.2707336743163131"
      ]
     },
     "execution_count": 71,
     "metadata": {},
     "output_type": "execute_result"
    }
   ],
   "source": [
    "(np.log(0.85) - np.log(0.50)) / z_95"
   ]
  },
  {
   "cell_type": "code",
   "execution_count": 72,
   "metadata": {},
   "outputs": [
    {
     "data": {
      "text/plain": [
       "1.7160068621848583"
      ]
     },
     "execution_count": 72,
     "metadata": {},
     "output_type": "execute_result"
    }
   ],
   "source": [
    "np.exp(.27)**2"
   ]
  },
  {
   "cell_type": "code",
   "execution_count": 73,
   "metadata": {},
   "outputs": [
    {
     "data": {
      "text/plain": [
       "1.0756229692394854"
      ]
     },
     "execution_count": 73,
     "metadata": {},
     "output_type": "execute_result"
    }
   ],
   "source": [
    "np.exp(.27**2)"
   ]
  },
  {
   "cell_type": "code",
   "execution_count": 54,
   "metadata": {},
   "outputs": [
    {
     "data": {
      "text/plain": [
       "0.43"
      ]
     },
     "execution_count": 54,
     "metadata": {},
     "output_type": "execute_result"
    }
   ],
   "source": [
    "0.87 - 0.44"
   ]
  },
  {
   "cell_type": "code",
   "execution_count": null,
   "metadata": {},
   "outputs": [],
   "source": [
    "0"
   ]
  }
 ],
 "metadata": {
  "hide_input": false,
  "interpreter": {
   "hash": "c5e384680b37c811d5c050863cd2e1b7b7fb22fa41e6ef4def208bf90ddd8ddd"
  },
  "kernelspec": {
   "display_name": "Python 3",
   "language": "python",
   "name": "python3"
  },
  "language_info": {
   "codemirror_mode": {
    "name": "ipython",
    "version": 3
   },
   "file_extension": ".py",
   "mimetype": "text/x-python",
   "name": "python",
   "nbconvert_exporter": "python",
   "pygments_lexer": "ipython3",
   "version": "3.6.12"
  },
  "varInspector": {
   "cols": {
    "lenName": 16,
    "lenType": 16,
    "lenVar": 40
   },
   "kernels_config": {
    "python": {
     "delete_cmd_postfix": "",
     "delete_cmd_prefix": "del ",
     "library": "var_list.py",
     "varRefreshCmd": "print(var_dic_list())"
    },
    "r": {
     "delete_cmd_postfix": ") ",
     "delete_cmd_prefix": "rm(",
     "library": "var_list.r",
     "varRefreshCmd": "cat(var_dic_list()) "
    }
   },
   "types_to_exclude": [
    "module",
    "function",
    "builtin_function_or_method",
    "instance",
    "_Feature"
   ],
   "window_display": false
  }
 },
 "nbformat": 4,
 "nbformat_minor": 2
}
